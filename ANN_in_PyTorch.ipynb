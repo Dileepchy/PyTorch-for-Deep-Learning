{
  "nbformat": 4,
  "nbformat_minor": 0,
  "metadata": {
    "colab": {
      "provenance": []
    },
    "kernelspec": {
      "name": "python3",
      "display_name": "Python 3"
    },
    "widgets": {
      "application/vnd.jupyter.widget-state+json": {
        "8643ae03f66b4cafb017b7e2297eb692": {
          "model_module": "@jupyter-widgets/controls",
          "model_name": "HBoxModel",
          "model_module_version": "1.5.0",
          "state": {
            "_view_name": "HBoxView",
            "_dom_classes": [],
            "_model_name": "HBoxModel",
            "_view_module": "@jupyter-widgets/controls",
            "_model_module_version": "1.5.0",
            "_view_count": null,
            "_view_module_version": "1.5.0",
            "box_style": "",
            "layout": "IPY_MODEL_1cc93352abfb41ccbafe8d8c112fd36b",
            "_model_module": "@jupyter-widgets/controls",
            "children": [
              "IPY_MODEL_e924b8e6465e405c99421b421034de19",
              "IPY_MODEL_86a15056ee4b4e06931d029cb8ad26c9",
              "IPY_MODEL_218c0001174d47eeb7c3397a20486aa0"
            ]
          }
        },
        "1cc93352abfb41ccbafe8d8c112fd36b": {
          "model_module": "@jupyter-widgets/base",
          "model_name": "LayoutModel",
          "model_module_version": "1.2.0",
          "state": {
            "_view_name": "LayoutView",
            "grid_template_rows": null,
            "right": null,
            "justify_content": null,
            "_view_module": "@jupyter-widgets/base",
            "overflow": null,
            "_model_module_version": "1.2.0",
            "_view_count": null,
            "flex_flow": null,
            "width": null,
            "min_width": null,
            "border": null,
            "align_items": null,
            "bottom": null,
            "_model_module": "@jupyter-widgets/base",
            "top": null,
            "grid_column": null,
            "overflow_y": null,
            "overflow_x": null,
            "grid_auto_flow": null,
            "grid_area": null,
            "grid_template_columns": null,
            "flex": null,
            "_model_name": "LayoutModel",
            "justify_items": null,
            "grid_row": null,
            "max_height": null,
            "align_content": null,
            "visibility": null,
            "align_self": null,
            "height": null,
            "min_height": null,
            "padding": null,
            "grid_auto_rows": null,
            "grid_gap": null,
            "max_width": null,
            "order": null,
            "_view_module_version": "1.2.0",
            "grid_template_areas": null,
            "object_position": null,
            "object_fit": null,
            "grid_auto_columns": null,
            "margin": null,
            "display": null,
            "left": null
          }
        },
        "e924b8e6465e405c99421b421034de19": {
          "model_module": "@jupyter-widgets/controls",
          "model_name": "HTMLModel",
          "model_module_version": "1.5.0",
          "state": {
            "_view_name": "HTMLView",
            "style": "IPY_MODEL_8944585853204742b40a972ec4b28fdc",
            "_dom_classes": [],
            "description": "",
            "_model_name": "HTMLModel",
            "placeholder": "​",
            "_view_module": "@jupyter-widgets/controls",
            "_model_module_version": "1.5.0",
            "value": "",
            "_view_count": null,
            "_view_module_version": "1.5.0",
            "description_tooltip": null,
            "_model_module": "@jupyter-widgets/controls",
            "layout": "IPY_MODEL_55700a15d337480ab778d8cf8af06988"
          }
        },
        "86a15056ee4b4e06931d029cb8ad26c9": {
          "model_module": "@jupyter-widgets/controls",
          "model_name": "FloatProgressModel",
          "model_module_version": "1.5.0",
          "state": {
            "_view_name": "ProgressView",
            "style": "IPY_MODEL_a6c7ceb5358447f6a196cb0db81aa79b",
            "_dom_classes": [],
            "description": "",
            "_model_name": "FloatProgressModel",
            "bar_style": "success",
            "max": 26421880,
            "_view_module": "@jupyter-widgets/controls",
            "_model_module_version": "1.5.0",
            "value": 26421880,
            "_view_count": null,
            "_view_module_version": "1.5.0",
            "orientation": "horizontal",
            "min": 0,
            "description_tooltip": null,
            "_model_module": "@jupyter-widgets/controls",
            "layout": "IPY_MODEL_059472c2aae6487093ba3e7d79be6b41"
          }
        },
        "218c0001174d47eeb7c3397a20486aa0": {
          "model_module": "@jupyter-widgets/controls",
          "model_name": "HTMLModel",
          "model_module_version": "1.5.0",
          "state": {
            "_view_name": "HTMLView",
            "style": "IPY_MODEL_8197aec4e7ab4828ac2af81c563088aa",
            "_dom_classes": [],
            "description": "",
            "_model_name": "HTMLModel",
            "placeholder": "​",
            "_view_module": "@jupyter-widgets/controls",
            "_model_module_version": "1.5.0",
            "value": " 26422272/? [00:01&lt;00:00, 23808526.52it/s]",
            "_view_count": null,
            "_view_module_version": "1.5.0",
            "description_tooltip": null,
            "_model_module": "@jupyter-widgets/controls",
            "layout": "IPY_MODEL_5786ab7e07f1445c9eb84bcedb6a728c"
          }
        },
        "8944585853204742b40a972ec4b28fdc": {
          "model_module": "@jupyter-widgets/controls",
          "model_name": "DescriptionStyleModel",
          "model_module_version": "1.5.0",
          "state": {
            "_view_name": "StyleView",
            "_model_name": "DescriptionStyleModel",
            "description_width": "",
            "_view_module": "@jupyter-widgets/base",
            "_model_module_version": "1.5.0",
            "_view_count": null,
            "_view_module_version": "1.2.0",
            "_model_module": "@jupyter-widgets/controls"
          }
        },
        "55700a15d337480ab778d8cf8af06988": {
          "model_module": "@jupyter-widgets/base",
          "model_name": "LayoutModel",
          "model_module_version": "1.2.0",
          "state": {
            "_view_name": "LayoutView",
            "grid_template_rows": null,
            "right": null,
            "justify_content": null,
            "_view_module": "@jupyter-widgets/base",
            "overflow": null,
            "_model_module_version": "1.2.0",
            "_view_count": null,
            "flex_flow": null,
            "width": null,
            "min_width": null,
            "border": null,
            "align_items": null,
            "bottom": null,
            "_model_module": "@jupyter-widgets/base",
            "top": null,
            "grid_column": null,
            "overflow_y": null,
            "overflow_x": null,
            "grid_auto_flow": null,
            "grid_area": null,
            "grid_template_columns": null,
            "flex": null,
            "_model_name": "LayoutModel",
            "justify_items": null,
            "grid_row": null,
            "max_height": null,
            "align_content": null,
            "visibility": null,
            "align_self": null,
            "height": null,
            "min_height": null,
            "padding": null,
            "grid_auto_rows": null,
            "grid_gap": null,
            "max_width": null,
            "order": null,
            "_view_module_version": "1.2.0",
            "grid_template_areas": null,
            "object_position": null,
            "object_fit": null,
            "grid_auto_columns": null,
            "margin": null,
            "display": null,
            "left": null
          }
        },
        "a6c7ceb5358447f6a196cb0db81aa79b": {
          "model_module": "@jupyter-widgets/controls",
          "model_name": "ProgressStyleModel",
          "model_module_version": "1.5.0",
          "state": {
            "_view_name": "StyleView",
            "_model_name": "ProgressStyleModel",
            "description_width": "",
            "_view_module": "@jupyter-widgets/base",
            "_model_module_version": "1.5.0",
            "_view_count": null,
            "_view_module_version": "1.2.0",
            "bar_color": null,
            "_model_module": "@jupyter-widgets/controls"
          }
        },
        "059472c2aae6487093ba3e7d79be6b41": {
          "model_module": "@jupyter-widgets/base",
          "model_name": "LayoutModel",
          "model_module_version": "1.2.0",
          "state": {
            "_view_name": "LayoutView",
            "grid_template_rows": null,
            "right": null,
            "justify_content": null,
            "_view_module": "@jupyter-widgets/base",
            "overflow": null,
            "_model_module_version": "1.2.0",
            "_view_count": null,
            "flex_flow": null,
            "width": null,
            "min_width": null,
            "border": null,
            "align_items": null,
            "bottom": null,
            "_model_module": "@jupyter-widgets/base",
            "top": null,
            "grid_column": null,
            "overflow_y": null,
            "overflow_x": null,
            "grid_auto_flow": null,
            "grid_area": null,
            "grid_template_columns": null,
            "flex": null,
            "_model_name": "LayoutModel",
            "justify_items": null,
            "grid_row": null,
            "max_height": null,
            "align_content": null,
            "visibility": null,
            "align_self": null,
            "height": null,
            "min_height": null,
            "padding": null,
            "grid_auto_rows": null,
            "grid_gap": null,
            "max_width": null,
            "order": null,
            "_view_module_version": "1.2.0",
            "grid_template_areas": null,
            "object_position": null,
            "object_fit": null,
            "grid_auto_columns": null,
            "margin": null,
            "display": null,
            "left": null
          }
        },
        "8197aec4e7ab4828ac2af81c563088aa": {
          "model_module": "@jupyter-widgets/controls",
          "model_name": "DescriptionStyleModel",
          "model_module_version": "1.5.0",
          "state": {
            "_view_name": "StyleView",
            "_model_name": "DescriptionStyleModel",
            "description_width": "",
            "_view_module": "@jupyter-widgets/base",
            "_model_module_version": "1.5.0",
            "_view_count": null,
            "_view_module_version": "1.2.0",
            "_model_module": "@jupyter-widgets/controls"
          }
        },
        "5786ab7e07f1445c9eb84bcedb6a728c": {
          "model_module": "@jupyter-widgets/base",
          "model_name": "LayoutModel",
          "model_module_version": "1.2.0",
          "state": {
            "_view_name": "LayoutView",
            "grid_template_rows": null,
            "right": null,
            "justify_content": null,
            "_view_module": "@jupyter-widgets/base",
            "overflow": null,
            "_model_module_version": "1.2.0",
            "_view_count": null,
            "flex_flow": null,
            "width": null,
            "min_width": null,
            "border": null,
            "align_items": null,
            "bottom": null,
            "_model_module": "@jupyter-widgets/base",
            "top": null,
            "grid_column": null,
            "overflow_y": null,
            "overflow_x": null,
            "grid_auto_flow": null,
            "grid_area": null,
            "grid_template_columns": null,
            "flex": null,
            "_model_name": "LayoutModel",
            "justify_items": null,
            "grid_row": null,
            "max_height": null,
            "align_content": null,
            "visibility": null,
            "align_self": null,
            "height": null,
            "min_height": null,
            "padding": null,
            "grid_auto_rows": null,
            "grid_gap": null,
            "max_width": null,
            "order": null,
            "_view_module_version": "1.2.0",
            "grid_template_areas": null,
            "object_position": null,
            "object_fit": null,
            "grid_auto_columns": null,
            "margin": null,
            "display": null,
            "left": null
          }
        },
        "5b6d3a86562f4270a0e79b8550ba4fd8": {
          "model_module": "@jupyter-widgets/controls",
          "model_name": "HBoxModel",
          "model_module_version": "1.5.0",
          "state": {
            "_view_name": "HBoxView",
            "_dom_classes": [],
            "_model_name": "HBoxModel",
            "_view_module": "@jupyter-widgets/controls",
            "_model_module_version": "1.5.0",
            "_view_count": null,
            "_view_module_version": "1.5.0",
            "box_style": "",
            "layout": "IPY_MODEL_356166d01d444d388a2e74b4ed6977da",
            "_model_module": "@jupyter-widgets/controls",
            "children": [
              "IPY_MODEL_13ac6ad42f244f1ab6a0ea95eb9ae16f",
              "IPY_MODEL_1b1946da6069455f8394cd13b2986dcb",
              "IPY_MODEL_8750924114f447fab547280c0ca57764"
            ]
          }
        },
        "356166d01d444d388a2e74b4ed6977da": {
          "model_module": "@jupyter-widgets/base",
          "model_name": "LayoutModel",
          "model_module_version": "1.2.0",
          "state": {
            "_view_name": "LayoutView",
            "grid_template_rows": null,
            "right": null,
            "justify_content": null,
            "_view_module": "@jupyter-widgets/base",
            "overflow": null,
            "_model_module_version": "1.2.0",
            "_view_count": null,
            "flex_flow": null,
            "width": null,
            "min_width": null,
            "border": null,
            "align_items": null,
            "bottom": null,
            "_model_module": "@jupyter-widgets/base",
            "top": null,
            "grid_column": null,
            "overflow_y": null,
            "overflow_x": null,
            "grid_auto_flow": null,
            "grid_area": null,
            "grid_template_columns": null,
            "flex": null,
            "_model_name": "LayoutModel",
            "justify_items": null,
            "grid_row": null,
            "max_height": null,
            "align_content": null,
            "visibility": null,
            "align_self": null,
            "height": null,
            "min_height": null,
            "padding": null,
            "grid_auto_rows": null,
            "grid_gap": null,
            "max_width": null,
            "order": null,
            "_view_module_version": "1.2.0",
            "grid_template_areas": null,
            "object_position": null,
            "object_fit": null,
            "grid_auto_columns": null,
            "margin": null,
            "display": null,
            "left": null
          }
        },
        "13ac6ad42f244f1ab6a0ea95eb9ae16f": {
          "model_module": "@jupyter-widgets/controls",
          "model_name": "HTMLModel",
          "model_module_version": "1.5.0",
          "state": {
            "_view_name": "HTMLView",
            "style": "IPY_MODEL_337531cd44c64026a9cbbcfbacc02e9a",
            "_dom_classes": [],
            "description": "",
            "_model_name": "HTMLModel",
            "placeholder": "​",
            "_view_module": "@jupyter-widgets/controls",
            "_model_module_version": "1.5.0",
            "value": "",
            "_view_count": null,
            "_view_module_version": "1.5.0",
            "description_tooltip": null,
            "_model_module": "@jupyter-widgets/controls",
            "layout": "IPY_MODEL_cdbfcf0465ab49a2bcd726cbf59f6a90"
          }
        },
        "1b1946da6069455f8394cd13b2986dcb": {
          "model_module": "@jupyter-widgets/controls",
          "model_name": "FloatProgressModel",
          "model_module_version": "1.5.0",
          "state": {
            "_view_name": "ProgressView",
            "style": "IPY_MODEL_5edca15822b34c79b15c042d2ebb2d94",
            "_dom_classes": [],
            "description": "",
            "_model_name": "FloatProgressModel",
            "bar_style": "success",
            "max": 29515,
            "_view_module": "@jupyter-widgets/controls",
            "_model_module_version": "1.5.0",
            "value": 29515,
            "_view_count": null,
            "_view_module_version": "1.5.0",
            "orientation": "horizontal",
            "min": 0,
            "description_tooltip": null,
            "_model_module": "@jupyter-widgets/controls",
            "layout": "IPY_MODEL_5c4c0647643a4c2fa351d7026831193d"
          }
        },
        "8750924114f447fab547280c0ca57764": {
          "model_module": "@jupyter-widgets/controls",
          "model_name": "HTMLModel",
          "model_module_version": "1.5.0",
          "state": {
            "_view_name": "HTMLView",
            "style": "IPY_MODEL_fb41cef2b6b041b18a9d2c290cbe634d",
            "_dom_classes": [],
            "description": "",
            "_model_name": "HTMLModel",
            "placeholder": "​",
            "_view_module": "@jupyter-widgets/controls",
            "_model_module_version": "1.5.0",
            "value": " 29696/? [00:00&lt;00:00, 116461.85it/s]",
            "_view_count": null,
            "_view_module_version": "1.5.0",
            "description_tooltip": null,
            "_model_module": "@jupyter-widgets/controls",
            "layout": "IPY_MODEL_caf1a4d661e14257bfdd7127958a0ec0"
          }
        },
        "337531cd44c64026a9cbbcfbacc02e9a": {
          "model_module": "@jupyter-widgets/controls",
          "model_name": "DescriptionStyleModel",
          "model_module_version": "1.5.0",
          "state": {
            "_view_name": "StyleView",
            "_model_name": "DescriptionStyleModel",
            "description_width": "",
            "_view_module": "@jupyter-widgets/base",
            "_model_module_version": "1.5.0",
            "_view_count": null,
            "_view_module_version": "1.2.0",
            "_model_module": "@jupyter-widgets/controls"
          }
        },
        "cdbfcf0465ab49a2bcd726cbf59f6a90": {
          "model_module": "@jupyter-widgets/base",
          "model_name": "LayoutModel",
          "model_module_version": "1.2.0",
          "state": {
            "_view_name": "LayoutView",
            "grid_template_rows": null,
            "right": null,
            "justify_content": null,
            "_view_module": "@jupyter-widgets/base",
            "overflow": null,
            "_model_module_version": "1.2.0",
            "_view_count": null,
            "flex_flow": null,
            "width": null,
            "min_width": null,
            "border": null,
            "align_items": null,
            "bottom": null,
            "_model_module": "@jupyter-widgets/base",
            "top": null,
            "grid_column": null,
            "overflow_y": null,
            "overflow_x": null,
            "grid_auto_flow": null,
            "grid_area": null,
            "grid_template_columns": null,
            "flex": null,
            "_model_name": "LayoutModel",
            "justify_items": null,
            "grid_row": null,
            "max_height": null,
            "align_content": null,
            "visibility": null,
            "align_self": null,
            "height": null,
            "min_height": null,
            "padding": null,
            "grid_auto_rows": null,
            "grid_gap": null,
            "max_width": null,
            "order": null,
            "_view_module_version": "1.2.0",
            "grid_template_areas": null,
            "object_position": null,
            "object_fit": null,
            "grid_auto_columns": null,
            "margin": null,
            "display": null,
            "left": null
          }
        },
        "5edca15822b34c79b15c042d2ebb2d94": {
          "model_module": "@jupyter-widgets/controls",
          "model_name": "ProgressStyleModel",
          "model_module_version": "1.5.0",
          "state": {
            "_view_name": "StyleView",
            "_model_name": "ProgressStyleModel",
            "description_width": "",
            "_view_module": "@jupyter-widgets/base",
            "_model_module_version": "1.5.0",
            "_view_count": null,
            "_view_module_version": "1.2.0",
            "bar_color": null,
            "_model_module": "@jupyter-widgets/controls"
          }
        },
        "5c4c0647643a4c2fa351d7026831193d": {
          "model_module": "@jupyter-widgets/base",
          "model_name": "LayoutModel",
          "model_module_version": "1.2.0",
          "state": {
            "_view_name": "LayoutView",
            "grid_template_rows": null,
            "right": null,
            "justify_content": null,
            "_view_module": "@jupyter-widgets/base",
            "overflow": null,
            "_model_module_version": "1.2.0",
            "_view_count": null,
            "flex_flow": null,
            "width": null,
            "min_width": null,
            "border": null,
            "align_items": null,
            "bottom": null,
            "_model_module": "@jupyter-widgets/base",
            "top": null,
            "grid_column": null,
            "overflow_y": null,
            "overflow_x": null,
            "grid_auto_flow": null,
            "grid_area": null,
            "grid_template_columns": null,
            "flex": null,
            "_model_name": "LayoutModel",
            "justify_items": null,
            "grid_row": null,
            "max_height": null,
            "align_content": null,
            "visibility": null,
            "align_self": null,
            "height": null,
            "min_height": null,
            "padding": null,
            "grid_auto_rows": null,
            "grid_gap": null,
            "max_width": null,
            "order": null,
            "_view_module_version": "1.2.0",
            "grid_template_areas": null,
            "object_position": null,
            "object_fit": null,
            "grid_auto_columns": null,
            "margin": null,
            "display": null,
            "left": null
          }
        },
        "fb41cef2b6b041b18a9d2c290cbe634d": {
          "model_module": "@jupyter-widgets/controls",
          "model_name": "DescriptionStyleModel",
          "model_module_version": "1.5.0",
          "state": {
            "_view_name": "StyleView",
            "_model_name": "DescriptionStyleModel",
            "description_width": "",
            "_view_module": "@jupyter-widgets/base",
            "_model_module_version": "1.5.0",
            "_view_count": null,
            "_view_module_version": "1.2.0",
            "_model_module": "@jupyter-widgets/controls"
          }
        },
        "caf1a4d661e14257bfdd7127958a0ec0": {
          "model_module": "@jupyter-widgets/base",
          "model_name": "LayoutModel",
          "model_module_version": "1.2.0",
          "state": {
            "_view_name": "LayoutView",
            "grid_template_rows": null,
            "right": null,
            "justify_content": null,
            "_view_module": "@jupyter-widgets/base",
            "overflow": null,
            "_model_module_version": "1.2.0",
            "_view_count": null,
            "flex_flow": null,
            "width": null,
            "min_width": null,
            "border": null,
            "align_items": null,
            "bottom": null,
            "_model_module": "@jupyter-widgets/base",
            "top": null,
            "grid_column": null,
            "overflow_y": null,
            "overflow_x": null,
            "grid_auto_flow": null,
            "grid_area": null,
            "grid_template_columns": null,
            "flex": null,
            "_model_name": "LayoutModel",
            "justify_items": null,
            "grid_row": null,
            "max_height": null,
            "align_content": null,
            "visibility": null,
            "align_self": null,
            "height": null,
            "min_height": null,
            "padding": null,
            "grid_auto_rows": null,
            "grid_gap": null,
            "max_width": null,
            "order": null,
            "_view_module_version": "1.2.0",
            "grid_template_areas": null,
            "object_position": null,
            "object_fit": null,
            "grid_auto_columns": null,
            "margin": null,
            "display": null,
            "left": null
          }
        },
        "73264a19ad3e4071a4a8de254a8ee39a": {
          "model_module": "@jupyter-widgets/controls",
          "model_name": "HBoxModel",
          "model_module_version": "1.5.0",
          "state": {
            "_view_name": "HBoxView",
            "_dom_classes": [],
            "_model_name": "HBoxModel",
            "_view_module": "@jupyter-widgets/controls",
            "_model_module_version": "1.5.0",
            "_view_count": null,
            "_view_module_version": "1.5.0",
            "box_style": "",
            "layout": "IPY_MODEL_034b6f539b4c47f48bfc3ce39a42606f",
            "_model_module": "@jupyter-widgets/controls",
            "children": [
              "IPY_MODEL_fca9eec52643461c849eccf4990fbbf9",
              "IPY_MODEL_1e92d26398fa45368c6c9ef0b7c06005",
              "IPY_MODEL_32f5785bb19f40b8ba1ec0ea770f7b81"
            ]
          }
        },
        "034b6f539b4c47f48bfc3ce39a42606f": {
          "model_module": "@jupyter-widgets/base",
          "model_name": "LayoutModel",
          "model_module_version": "1.2.0",
          "state": {
            "_view_name": "LayoutView",
            "grid_template_rows": null,
            "right": null,
            "justify_content": null,
            "_view_module": "@jupyter-widgets/base",
            "overflow": null,
            "_model_module_version": "1.2.0",
            "_view_count": null,
            "flex_flow": null,
            "width": null,
            "min_width": null,
            "border": null,
            "align_items": null,
            "bottom": null,
            "_model_module": "@jupyter-widgets/base",
            "top": null,
            "grid_column": null,
            "overflow_y": null,
            "overflow_x": null,
            "grid_auto_flow": null,
            "grid_area": null,
            "grid_template_columns": null,
            "flex": null,
            "_model_name": "LayoutModel",
            "justify_items": null,
            "grid_row": null,
            "max_height": null,
            "align_content": null,
            "visibility": null,
            "align_self": null,
            "height": null,
            "min_height": null,
            "padding": null,
            "grid_auto_rows": null,
            "grid_gap": null,
            "max_width": null,
            "order": null,
            "_view_module_version": "1.2.0",
            "grid_template_areas": null,
            "object_position": null,
            "object_fit": null,
            "grid_auto_columns": null,
            "margin": null,
            "display": null,
            "left": null
          }
        },
        "fca9eec52643461c849eccf4990fbbf9": {
          "model_module": "@jupyter-widgets/controls",
          "model_name": "HTMLModel",
          "model_module_version": "1.5.0",
          "state": {
            "_view_name": "HTMLView",
            "style": "IPY_MODEL_addfb7b225214b2face64c4ab7ccd422",
            "_dom_classes": [],
            "description": "",
            "_model_name": "HTMLModel",
            "placeholder": "​",
            "_view_module": "@jupyter-widgets/controls",
            "_model_module_version": "1.5.0",
            "value": "",
            "_view_count": null,
            "_view_module_version": "1.5.0",
            "description_tooltip": null,
            "_model_module": "@jupyter-widgets/controls",
            "layout": "IPY_MODEL_1c5feb3113d84903be13f8d85b2d73c2"
          }
        },
        "1e92d26398fa45368c6c9ef0b7c06005": {
          "model_module": "@jupyter-widgets/controls",
          "model_name": "FloatProgressModel",
          "model_module_version": "1.5.0",
          "state": {
            "_view_name": "ProgressView",
            "style": "IPY_MODEL_bf790700214d4bf1bc8b97f160f69e03",
            "_dom_classes": [],
            "description": "",
            "_model_name": "FloatProgressModel",
            "bar_style": "success",
            "max": 4422102,
            "_view_module": "@jupyter-widgets/controls",
            "_model_module_version": "1.5.0",
            "value": 4422102,
            "_view_count": null,
            "_view_module_version": "1.5.0",
            "orientation": "horizontal",
            "min": 0,
            "description_tooltip": null,
            "_model_module": "@jupyter-widgets/controls",
            "layout": "IPY_MODEL_877d8db4af3d47879b9436323cc6e06d"
          }
        },
        "32f5785bb19f40b8ba1ec0ea770f7b81": {
          "model_module": "@jupyter-widgets/controls",
          "model_name": "HTMLModel",
          "model_module_version": "1.5.0",
          "state": {
            "_view_name": "HTMLView",
            "style": "IPY_MODEL_0d864017257d4238b43fd55d0ef0eaa7",
            "_dom_classes": [],
            "description": "",
            "_model_name": "HTMLModel",
            "placeholder": "​",
            "_view_module": "@jupyter-widgets/controls",
            "_model_module_version": "1.5.0",
            "value": " 4422656/? [00:00&lt;00:00, 6941255.88it/s]",
            "_view_count": null,
            "_view_module_version": "1.5.0",
            "description_tooltip": null,
            "_model_module": "@jupyter-widgets/controls",
            "layout": "IPY_MODEL_f8913e16066e47d3a4fda50b9d77e33e"
          }
        },
        "addfb7b225214b2face64c4ab7ccd422": {
          "model_module": "@jupyter-widgets/controls",
          "model_name": "DescriptionStyleModel",
          "model_module_version": "1.5.0",
          "state": {
            "_view_name": "StyleView",
            "_model_name": "DescriptionStyleModel",
            "description_width": "",
            "_view_module": "@jupyter-widgets/base",
            "_model_module_version": "1.5.0",
            "_view_count": null,
            "_view_module_version": "1.2.0",
            "_model_module": "@jupyter-widgets/controls"
          }
        },
        "1c5feb3113d84903be13f8d85b2d73c2": {
          "model_module": "@jupyter-widgets/base",
          "model_name": "LayoutModel",
          "model_module_version": "1.2.0",
          "state": {
            "_view_name": "LayoutView",
            "grid_template_rows": null,
            "right": null,
            "justify_content": null,
            "_view_module": "@jupyter-widgets/base",
            "overflow": null,
            "_model_module_version": "1.2.0",
            "_view_count": null,
            "flex_flow": null,
            "width": null,
            "min_width": null,
            "border": null,
            "align_items": null,
            "bottom": null,
            "_model_module": "@jupyter-widgets/base",
            "top": null,
            "grid_column": null,
            "overflow_y": null,
            "overflow_x": null,
            "grid_auto_flow": null,
            "grid_area": null,
            "grid_template_columns": null,
            "flex": null,
            "_model_name": "LayoutModel",
            "justify_items": null,
            "grid_row": null,
            "max_height": null,
            "align_content": null,
            "visibility": null,
            "align_self": null,
            "height": null,
            "min_height": null,
            "padding": null,
            "grid_auto_rows": null,
            "grid_gap": null,
            "max_width": null,
            "order": null,
            "_view_module_version": "1.2.0",
            "grid_template_areas": null,
            "object_position": null,
            "object_fit": null,
            "grid_auto_columns": null,
            "margin": null,
            "display": null,
            "left": null
          }
        },
        "bf790700214d4bf1bc8b97f160f69e03": {
          "model_module": "@jupyter-widgets/controls",
          "model_name": "ProgressStyleModel",
          "model_module_version": "1.5.0",
          "state": {
            "_view_name": "StyleView",
            "_model_name": "ProgressStyleModel",
            "description_width": "",
            "_view_module": "@jupyter-widgets/base",
            "_model_module_version": "1.5.0",
            "_view_count": null,
            "_view_module_version": "1.2.0",
            "bar_color": null,
            "_model_module": "@jupyter-widgets/controls"
          }
        },
        "877d8db4af3d47879b9436323cc6e06d": {
          "model_module": "@jupyter-widgets/base",
          "model_name": "LayoutModel",
          "model_module_version": "1.2.0",
          "state": {
            "_view_name": "LayoutView",
            "grid_template_rows": null,
            "right": null,
            "justify_content": null,
            "_view_module": "@jupyter-widgets/base",
            "overflow": null,
            "_model_module_version": "1.2.0",
            "_view_count": null,
            "flex_flow": null,
            "width": null,
            "min_width": null,
            "border": null,
            "align_items": null,
            "bottom": null,
            "_model_module": "@jupyter-widgets/base",
            "top": null,
            "grid_column": null,
            "overflow_y": null,
            "overflow_x": null,
            "grid_auto_flow": null,
            "grid_area": null,
            "grid_template_columns": null,
            "flex": null,
            "_model_name": "LayoutModel",
            "justify_items": null,
            "grid_row": null,
            "max_height": null,
            "align_content": null,
            "visibility": null,
            "align_self": null,
            "height": null,
            "min_height": null,
            "padding": null,
            "grid_auto_rows": null,
            "grid_gap": null,
            "max_width": null,
            "order": null,
            "_view_module_version": "1.2.0",
            "grid_template_areas": null,
            "object_position": null,
            "object_fit": null,
            "grid_auto_columns": null,
            "margin": null,
            "display": null,
            "left": null
          }
        },
        "0d864017257d4238b43fd55d0ef0eaa7": {
          "model_module": "@jupyter-widgets/controls",
          "model_name": "DescriptionStyleModel",
          "model_module_version": "1.5.0",
          "state": {
            "_view_name": "StyleView",
            "_model_name": "DescriptionStyleModel",
            "description_width": "",
            "_view_module": "@jupyter-widgets/base",
            "_model_module_version": "1.5.0",
            "_view_count": null,
            "_view_module_version": "1.2.0",
            "_model_module": "@jupyter-widgets/controls"
          }
        },
        "f8913e16066e47d3a4fda50b9d77e33e": {
          "model_module": "@jupyter-widgets/base",
          "model_name": "LayoutModel",
          "model_module_version": "1.2.0",
          "state": {
            "_view_name": "LayoutView",
            "grid_template_rows": null,
            "right": null,
            "justify_content": null,
            "_view_module": "@jupyter-widgets/base",
            "overflow": null,
            "_model_module_version": "1.2.0",
            "_view_count": null,
            "flex_flow": null,
            "width": null,
            "min_width": null,
            "border": null,
            "align_items": null,
            "bottom": null,
            "_model_module": "@jupyter-widgets/base",
            "top": null,
            "grid_column": null,
            "overflow_y": null,
            "overflow_x": null,
            "grid_auto_flow": null,
            "grid_area": null,
            "grid_template_columns": null,
            "flex": null,
            "_model_name": "LayoutModel",
            "justify_items": null,
            "grid_row": null,
            "max_height": null,
            "align_content": null,
            "visibility": null,
            "align_self": null,
            "height": null,
            "min_height": null,
            "padding": null,
            "grid_auto_rows": null,
            "grid_gap": null,
            "max_width": null,
            "order": null,
            "_view_module_version": "1.2.0",
            "grid_template_areas": null,
            "object_position": null,
            "object_fit": null,
            "grid_auto_columns": null,
            "margin": null,
            "display": null,
            "left": null
          }
        },
        "ed8184d452c149339403188445cbb9f1": {
          "model_module": "@jupyter-widgets/controls",
          "model_name": "HBoxModel",
          "model_module_version": "1.5.0",
          "state": {
            "_view_name": "HBoxView",
            "_dom_classes": [],
            "_model_name": "HBoxModel",
            "_view_module": "@jupyter-widgets/controls",
            "_model_module_version": "1.5.0",
            "_view_count": null,
            "_view_module_version": "1.5.0",
            "box_style": "",
            "layout": "IPY_MODEL_a7ea04063f8244a1a9f06c8829e46b9a",
            "_model_module": "@jupyter-widgets/controls",
            "children": [
              "IPY_MODEL_fd8778c8034245f7950e3b69efb2afa8",
              "IPY_MODEL_f8d9a25ef8da434481e8798def434fde",
              "IPY_MODEL_f452c0e203d04f1ab39c2ac532f575ad"
            ]
          }
        },
        "a7ea04063f8244a1a9f06c8829e46b9a": {
          "model_module": "@jupyter-widgets/base",
          "model_name": "LayoutModel",
          "model_module_version": "1.2.0",
          "state": {
            "_view_name": "LayoutView",
            "grid_template_rows": null,
            "right": null,
            "justify_content": null,
            "_view_module": "@jupyter-widgets/base",
            "overflow": null,
            "_model_module_version": "1.2.0",
            "_view_count": null,
            "flex_flow": null,
            "width": null,
            "min_width": null,
            "border": null,
            "align_items": null,
            "bottom": null,
            "_model_module": "@jupyter-widgets/base",
            "top": null,
            "grid_column": null,
            "overflow_y": null,
            "overflow_x": null,
            "grid_auto_flow": null,
            "grid_area": null,
            "grid_template_columns": null,
            "flex": null,
            "_model_name": "LayoutModel",
            "justify_items": null,
            "grid_row": null,
            "max_height": null,
            "align_content": null,
            "visibility": null,
            "align_self": null,
            "height": null,
            "min_height": null,
            "padding": null,
            "grid_auto_rows": null,
            "grid_gap": null,
            "max_width": null,
            "order": null,
            "_view_module_version": "1.2.0",
            "grid_template_areas": null,
            "object_position": null,
            "object_fit": null,
            "grid_auto_columns": null,
            "margin": null,
            "display": null,
            "left": null
          }
        },
        "fd8778c8034245f7950e3b69efb2afa8": {
          "model_module": "@jupyter-widgets/controls",
          "model_name": "HTMLModel",
          "model_module_version": "1.5.0",
          "state": {
            "_view_name": "HTMLView",
            "style": "IPY_MODEL_2222f6c130654b59bf96cf5a85bb6efa",
            "_dom_classes": [],
            "description": "",
            "_model_name": "HTMLModel",
            "placeholder": "​",
            "_view_module": "@jupyter-widgets/controls",
            "_model_module_version": "1.5.0",
            "value": "",
            "_view_count": null,
            "_view_module_version": "1.5.0",
            "description_tooltip": null,
            "_model_module": "@jupyter-widgets/controls",
            "layout": "IPY_MODEL_568e8c18906445318c8d955c081a1cad"
          }
        },
        "f8d9a25ef8da434481e8798def434fde": {
          "model_module": "@jupyter-widgets/controls",
          "model_name": "FloatProgressModel",
          "model_module_version": "1.5.0",
          "state": {
            "_view_name": "ProgressView",
            "style": "IPY_MODEL_8bb032135d264db6b57554953da95232",
            "_dom_classes": [],
            "description": "",
            "_model_name": "FloatProgressModel",
            "bar_style": "success",
            "max": 5148,
            "_view_module": "@jupyter-widgets/controls",
            "_model_module_version": "1.5.0",
            "value": 5148,
            "_view_count": null,
            "_view_module_version": "1.5.0",
            "orientation": "horizontal",
            "min": 0,
            "description_tooltip": null,
            "_model_module": "@jupyter-widgets/controls",
            "layout": "IPY_MODEL_252ffeb5bee9406f8a69e928817a52a4"
          }
        },
        "f452c0e203d04f1ab39c2ac532f575ad": {
          "model_module": "@jupyter-widgets/controls",
          "model_name": "HTMLModel",
          "model_module_version": "1.5.0",
          "state": {
            "_view_name": "HTMLView",
            "style": "IPY_MODEL_f653fef7c3394b818dcc624f1e2af361",
            "_dom_classes": [],
            "description": "",
            "_model_name": "HTMLModel",
            "placeholder": "​",
            "_view_module": "@jupyter-widgets/controls",
            "_model_module_version": "1.5.0",
            "value": " 6144/? [00:00&lt;00:00, 6222.21it/s]",
            "_view_count": null,
            "_view_module_version": "1.5.0",
            "description_tooltip": null,
            "_model_module": "@jupyter-widgets/controls",
            "layout": "IPY_MODEL_a7dcc099162d43a2bd68f4d7a3952ffc"
          }
        },
        "2222f6c130654b59bf96cf5a85bb6efa": {
          "model_module": "@jupyter-widgets/controls",
          "model_name": "DescriptionStyleModel",
          "model_module_version": "1.5.0",
          "state": {
            "_view_name": "StyleView",
            "_model_name": "DescriptionStyleModel",
            "description_width": "",
            "_view_module": "@jupyter-widgets/base",
            "_model_module_version": "1.5.0",
            "_view_count": null,
            "_view_module_version": "1.2.0",
            "_model_module": "@jupyter-widgets/controls"
          }
        },
        "568e8c18906445318c8d955c081a1cad": {
          "model_module": "@jupyter-widgets/base",
          "model_name": "LayoutModel",
          "model_module_version": "1.2.0",
          "state": {
            "_view_name": "LayoutView",
            "grid_template_rows": null,
            "right": null,
            "justify_content": null,
            "_view_module": "@jupyter-widgets/base",
            "overflow": null,
            "_model_module_version": "1.2.0",
            "_view_count": null,
            "flex_flow": null,
            "width": null,
            "min_width": null,
            "border": null,
            "align_items": null,
            "bottom": null,
            "_model_module": "@jupyter-widgets/base",
            "top": null,
            "grid_column": null,
            "overflow_y": null,
            "overflow_x": null,
            "grid_auto_flow": null,
            "grid_area": null,
            "grid_template_columns": null,
            "flex": null,
            "_model_name": "LayoutModel",
            "justify_items": null,
            "grid_row": null,
            "max_height": null,
            "align_content": null,
            "visibility": null,
            "align_self": null,
            "height": null,
            "min_height": null,
            "padding": null,
            "grid_auto_rows": null,
            "grid_gap": null,
            "max_width": null,
            "order": null,
            "_view_module_version": "1.2.0",
            "grid_template_areas": null,
            "object_position": null,
            "object_fit": null,
            "grid_auto_columns": null,
            "margin": null,
            "display": null,
            "left": null
          }
        },
        "8bb032135d264db6b57554953da95232": {
          "model_module": "@jupyter-widgets/controls",
          "model_name": "ProgressStyleModel",
          "model_module_version": "1.5.0",
          "state": {
            "_view_name": "StyleView",
            "_model_name": "ProgressStyleModel",
            "description_width": "",
            "_view_module": "@jupyter-widgets/base",
            "_model_module_version": "1.5.0",
            "_view_count": null,
            "_view_module_version": "1.2.0",
            "bar_color": null,
            "_model_module": "@jupyter-widgets/controls"
          }
        },
        "252ffeb5bee9406f8a69e928817a52a4": {
          "model_module": "@jupyter-widgets/base",
          "model_name": "LayoutModel",
          "model_module_version": "1.2.0",
          "state": {
            "_view_name": "LayoutView",
            "grid_template_rows": null,
            "right": null,
            "justify_content": null,
            "_view_module": "@jupyter-widgets/base",
            "overflow": null,
            "_model_module_version": "1.2.0",
            "_view_count": null,
            "flex_flow": null,
            "width": null,
            "min_width": null,
            "border": null,
            "align_items": null,
            "bottom": null,
            "_model_module": "@jupyter-widgets/base",
            "top": null,
            "grid_column": null,
            "overflow_y": null,
            "overflow_x": null,
            "grid_auto_flow": null,
            "grid_area": null,
            "grid_template_columns": null,
            "flex": null,
            "_model_name": "LayoutModel",
            "justify_items": null,
            "grid_row": null,
            "max_height": null,
            "align_content": null,
            "visibility": null,
            "align_self": null,
            "height": null,
            "min_height": null,
            "padding": null,
            "grid_auto_rows": null,
            "grid_gap": null,
            "max_width": null,
            "order": null,
            "_view_module_version": "1.2.0",
            "grid_template_areas": null,
            "object_position": null,
            "object_fit": null,
            "grid_auto_columns": null,
            "margin": null,
            "display": null,
            "left": null
          }
        },
        "f653fef7c3394b818dcc624f1e2af361": {
          "model_module": "@jupyter-widgets/controls",
          "model_name": "DescriptionStyleModel",
          "model_module_version": "1.5.0",
          "state": {
            "_view_name": "StyleView",
            "_model_name": "DescriptionStyleModel",
            "description_width": "",
            "_view_module": "@jupyter-widgets/base",
            "_model_module_version": "1.5.0",
            "_view_count": null,
            "_view_module_version": "1.2.0",
            "_model_module": "@jupyter-widgets/controls"
          }
        },
        "a7dcc099162d43a2bd68f4d7a3952ffc": {
          "model_module": "@jupyter-widgets/base",
          "model_name": "LayoutModel",
          "model_module_version": "1.2.0",
          "state": {
            "_view_name": "LayoutView",
            "grid_template_rows": null,
            "right": null,
            "justify_content": null,
            "_view_module": "@jupyter-widgets/base",
            "overflow": null,
            "_model_module_version": "1.2.0",
            "_view_count": null,
            "flex_flow": null,
            "width": null,
            "min_width": null,
            "border": null,
            "align_items": null,
            "bottom": null,
            "_model_module": "@jupyter-widgets/base",
            "top": null,
            "grid_column": null,
            "overflow_y": null,
            "overflow_x": null,
            "grid_auto_flow": null,
            "grid_area": null,
            "grid_template_columns": null,
            "flex": null,
            "_model_name": "LayoutModel",
            "justify_items": null,
            "grid_row": null,
            "max_height": null,
            "align_content": null,
            "visibility": null,
            "align_self": null,
            "height": null,
            "min_height": null,
            "padding": null,
            "grid_auto_rows": null,
            "grid_gap": null,
            "max_width": null,
            "order": null,
            "_view_module_version": "1.2.0",
            "grid_template_areas": null,
            "object_position": null,
            "object_fit": null,
            "grid_auto_columns": null,
            "margin": null,
            "display": null,
            "left": null
          }
        }
      }
    }
  },
  "cells": [
    {
      "cell_type": "markdown",
      "metadata": {
        "id": "DRZXF4RExaot"
      },
      "source": [
        "#**ANN in PyTorch**\n",
        "\n",
        "In this reading material, you'll learn how to build a simple ANN model, train it using training set,tune different hyperparameter using validation test and finally test our built model. Basically, we will be building basic ANN model in pytorch  and evaluate it.\n",
        "\n",
        "##Prerequisites:\n",
        "\n",
        "\n",
        "1.   Knowledge about commonly used functions in PyTorch.\n",
        "2.   Basic workflow of an ANN model.\n",
        "\n",
        "##Learning Objectives:\n",
        "\n",
        "\n",
        "1.   Learn about terminologies related to ANN\n",
        "2.   Learn how to implement a simple ANN in PyTorch.\n",
        "\n",
        "\n",
        "\n"
      ]
    },
    {
      "cell_type": "markdown",
      "metadata": {
        "id": "NQJfOvGBcKdt"
      },
      "source": [
        "## Implementing simple ANN using PyTorch"
      ]
    },
    {
      "cell_type": "markdown",
      "metadata": {
        "id": "YkEK8dSI8zBd"
      },
      "source": [
        "##1.Importing PyTorch"
      ]
    },
    {
      "cell_type": "code",
      "metadata": {
        "id": "tOD9uV5GcPR2"
      },
      "source": [
        "import torch\n",
        "from torch import nn"
      ],
      "execution_count": null,
      "outputs": []
    },
    {
      "cell_type": "markdown",
      "metadata": {
        "id": "_rW50r2zdg7n"
      },
      "source": [
        "##2. Downloading dataset and Exploring the data\n",
        "We start by downloading the Fashion MNIST dataset to perform classification.To download it, we use TorchVision datasets API.\n"
      ]
    },
    {
      "cell_type": "code",
      "metadata": {
        "id": "bubl_yu3cnfV",
        "colab": {
          "base_uri": "https://localhost:8080/",
          "height": 443,
          "referenced_widgets": [
            "8643ae03f66b4cafb017b7e2297eb692",
            "1cc93352abfb41ccbafe8d8c112fd36b",
            "e924b8e6465e405c99421b421034de19",
            "86a15056ee4b4e06931d029cb8ad26c9",
            "218c0001174d47eeb7c3397a20486aa0",
            "8944585853204742b40a972ec4b28fdc",
            "55700a15d337480ab778d8cf8af06988",
            "a6c7ceb5358447f6a196cb0db81aa79b",
            "059472c2aae6487093ba3e7d79be6b41",
            "8197aec4e7ab4828ac2af81c563088aa",
            "5786ab7e07f1445c9eb84bcedb6a728c",
            "5b6d3a86562f4270a0e79b8550ba4fd8",
            "356166d01d444d388a2e74b4ed6977da",
            "13ac6ad42f244f1ab6a0ea95eb9ae16f",
            "1b1946da6069455f8394cd13b2986dcb",
            "8750924114f447fab547280c0ca57764",
            "337531cd44c64026a9cbbcfbacc02e9a",
            "cdbfcf0465ab49a2bcd726cbf59f6a90",
            "5edca15822b34c79b15c042d2ebb2d94",
            "5c4c0647643a4c2fa351d7026831193d",
            "fb41cef2b6b041b18a9d2c290cbe634d",
            "caf1a4d661e14257bfdd7127958a0ec0",
            "73264a19ad3e4071a4a8de254a8ee39a",
            "034b6f539b4c47f48bfc3ce39a42606f",
            "fca9eec52643461c849eccf4990fbbf9",
            "1e92d26398fa45368c6c9ef0b7c06005",
            "32f5785bb19f40b8ba1ec0ea770f7b81",
            "addfb7b225214b2face64c4ab7ccd422",
            "1c5feb3113d84903be13f8d85b2d73c2",
            "bf790700214d4bf1bc8b97f160f69e03",
            "877d8db4af3d47879b9436323cc6e06d",
            "0d864017257d4238b43fd55d0ef0eaa7",
            "f8913e16066e47d3a4fda50b9d77e33e",
            "ed8184d452c149339403188445cbb9f1",
            "a7ea04063f8244a1a9f06c8829e46b9a",
            "fd8778c8034245f7950e3b69efb2afa8",
            "f8d9a25ef8da434481e8798def434fde",
            "f452c0e203d04f1ab39c2ac532f575ad",
            "2222f6c130654b59bf96cf5a85bb6efa",
            "568e8c18906445318c8d955c081a1cad",
            "8bb032135d264db6b57554953da95232",
            "252ffeb5bee9406f8a69e928817a52a4",
            "f653fef7c3394b818dcc624f1e2af361",
            "a7dcc099162d43a2bd68f4d7a3952ffc"
          ]
        },
        "outputId": "866e7d5e-59bd-45a1-ca29-422aee7cba8e"
      },
      "source": [
        "from torchvision import datasets\n",
        "from torchvision.transforms import ToTensor\n",
        "\n",
        "# Download training data from open datasets.\n",
        "training_data = datasets.FashionMNIST(\n",
        "    root=\"data\",\n",
        "    train=True,\n",
        "    download=True,\n",
        "    transform=ToTensor(), # Read file and convert image to Tensor\n",
        ")\n",
        "\n",
        "# Download test data from open datasets.\n",
        "test_data = datasets.FashionMNIST(\n",
        "    root=\"data\",\n",
        "    train=False,\n",
        "    download=True,\n",
        "    transform=ToTensor(),\n",
        ")"
      ],
      "execution_count": null,
      "outputs": [
        {
          "output_type": "stream",
          "name": "stdout",
          "text": [
            "Downloading http://fashion-mnist.s3-website.eu-central-1.amazonaws.com/train-images-idx3-ubyte.gz\n",
            "Downloading http://fashion-mnist.s3-website.eu-central-1.amazonaws.com/train-images-idx3-ubyte.gz to data/FashionMNIST/raw/train-images-idx3-ubyte.gz\n"
          ]
        },
        {
          "output_type": "display_data",
          "data": {
            "application/vnd.jupyter.widget-view+json": {
              "model_id": "8643ae03f66b4cafb017b7e2297eb692",
              "version_minor": 0,
              "version_major": 2
            },
            "text/plain": [
              "  0%|          | 0/26421880 [00:00<?, ?it/s]"
            ]
          },
          "metadata": {}
        },
        {
          "output_type": "stream",
          "name": "stdout",
          "text": [
            "Extracting data/FashionMNIST/raw/train-images-idx3-ubyte.gz to data/FashionMNIST/raw\n",
            "\n",
            "Downloading http://fashion-mnist.s3-website.eu-central-1.amazonaws.com/train-labels-idx1-ubyte.gz\n",
            "Downloading http://fashion-mnist.s3-website.eu-central-1.amazonaws.com/train-labels-idx1-ubyte.gz to data/FashionMNIST/raw/train-labels-idx1-ubyte.gz\n"
          ]
        },
        {
          "output_type": "display_data",
          "data": {
            "application/vnd.jupyter.widget-view+json": {
              "model_id": "5b6d3a86562f4270a0e79b8550ba4fd8",
              "version_minor": 0,
              "version_major": 2
            },
            "text/plain": [
              "  0%|          | 0/29515 [00:00<?, ?it/s]"
            ]
          },
          "metadata": {}
        },
        {
          "output_type": "stream",
          "name": "stdout",
          "text": [
            "Extracting data/FashionMNIST/raw/train-labels-idx1-ubyte.gz to data/FashionMNIST/raw\n",
            "\n",
            "Downloading http://fashion-mnist.s3-website.eu-central-1.amazonaws.com/t10k-images-idx3-ubyte.gz\n",
            "Downloading http://fashion-mnist.s3-website.eu-central-1.amazonaws.com/t10k-images-idx3-ubyte.gz to data/FashionMNIST/raw/t10k-images-idx3-ubyte.gz\n"
          ]
        },
        {
          "output_type": "display_data",
          "data": {
            "application/vnd.jupyter.widget-view+json": {
              "model_id": "73264a19ad3e4071a4a8de254a8ee39a",
              "version_minor": 0,
              "version_major": 2
            },
            "text/plain": [
              "  0%|          | 0/4422102 [00:00<?, ?it/s]"
            ]
          },
          "metadata": {}
        },
        {
          "output_type": "stream",
          "name": "stdout",
          "text": [
            "Extracting data/FashionMNIST/raw/t10k-images-idx3-ubyte.gz to data/FashionMNIST/raw\n",
            "\n",
            "Downloading http://fashion-mnist.s3-website.eu-central-1.amazonaws.com/t10k-labels-idx1-ubyte.gz\n",
            "Downloading http://fashion-mnist.s3-website.eu-central-1.amazonaws.com/t10k-labels-idx1-ubyte.gz to data/FashionMNIST/raw/t10k-labels-idx1-ubyte.gz\n"
          ]
        },
        {
          "output_type": "display_data",
          "data": {
            "application/vnd.jupyter.widget-view+json": {
              "model_id": "ed8184d452c149339403188445cbb9f1",
              "version_minor": 0,
              "version_major": 2
            },
            "text/plain": [
              "  0%|          | 0/5148 [00:00<?, ?it/s]"
            ]
          },
          "metadata": {}
        },
        {
          "output_type": "stream",
          "name": "stdout",
          "text": [
            "Extracting data/FashionMNIST/raw/t10k-labels-idx1-ubyte.gz to data/FashionMNIST/raw\n",
            "\n"
          ]
        }
      ]
    },
    {
      "cell_type": "markdown",
      "metadata": {
        "id": "e6N0GtDvqDMl"
      },
      "source": [
        "**Dataset Split ratio :**\n",
        "\n",
        " Dataset split normally depends upon two things.First, the total number of samples in  data and second, on the actual model we are training.\n",
        "\n",
        " First , we split the data into train set and test set say, $x\\%$ data is kept for test set. Remaining $(100-x)\\%$ is now split into actual training set and validation set.say $y\\%$ is kept for validation set then the final training set becomes $((100-x)-y)\\%$ , validation set becomes $y\\%$ and test set becomes $x\\%$.\n",
        "\n",
        "\n",
        "Here `training_data` is our **training dataset**. Training Dataset is an actual dataset that we use to train the model (weights and biases in the case of Neural Network). The model sees and learns from this data. Further split of train set into validation set and train set is done later in the code.\n",
        "\n",
        "`test_data` is our **test dataset**. which is the sample of data used to provide an unbiased evaluation of a final model .Our model only sees the test dataset at the end, it is used as final evaluation of the model"
      ]
    },
    {
      "cell_type": "markdown",
      "metadata": {
        "id": "55wwikaSf2xC"
      },
      "source": [
        "Lets check the shape of train and test datasets."
      ]
    },
    {
      "cell_type": "code",
      "metadata": {
        "id": "s6tgA6s0dxhv",
        "outputId": "e8b361ec-cded-49e0-bcb9-08816904a650",
        "colab": {
          "base_uri": "https://localhost:8080/"
        }
      },
      "source": [
        "print(training_data.data.shape, training_data.targets.shape)\n",
        "print(test_data.data.shape, test_data.targets.shape)"
      ],
      "execution_count": null,
      "outputs": [
        {
          "output_type": "stream",
          "name": "stdout",
          "text": [
            "torch.Size([60000, 28, 28]) torch.Size([60000])\n",
            "torch.Size([10000, 28, 28]) torch.Size([10000])\n"
          ]
        }
      ]
    },
    {
      "cell_type": "markdown",
      "metadata": {
        "id": "rS9N7LO3eYey"
      },
      "source": [
        "Here, `training_data.data` shape (60000,28,28) means it has 60k examples of image each of size 28*28 and `training_data.targets` shape (60000,) means it has one label for each 60k training image. Further Exploration of data is done below:"
      ]
    },
    {
      "cell_type": "code",
      "metadata": {
        "id": "FCq2QsQneWKz",
        "outputId": "441ad87e-f071-453f-c0a4-7f50ab53ec3a",
        "colab": {
          "base_uri": "https://localhost:8080/"
        }
      },
      "source": [
        "# sample data value.\n",
        "\n",
        "print(training_data.data[0,10:15,10:15])  # 5x5 pixel patch from 28x28 pixel image sample\n",
        "\n",
        "# full 28x28 sample image can be viewed from the code below\n",
        "\n",
        "# print(x_train[0,:,:])\n",
        "\n",
        "print(\"label\", training_data.targets[0])"
      ],
      "execution_count": null,
      "outputs": [
        {
          "output_type": "stream",
          "name": "stdout",
          "text": [
            ".............1st sample data value...............\n",
            ".............5x5 pixel patch from 28x28 pixel image sample ...............\n",
            "tensor([[  0,   0,   0, 193, 228],\n",
            "        [  3,   0,  12, 219, 220],\n",
            "        [  6,   0,  99, 244, 222],\n",
            "        [  0,   0,  55, 236, 228],\n",
            "        [  0,   0, 237, 226, 217]], dtype=torch.uint8)\n",
            "...............1st sample label.................\n",
            "tensor(9)\n"
          ]
        }
      ]
    },
    {
      "cell_type": "markdown",
      "metadata": {
        "id": "PL45Q-9of-k-"
      },
      "source": [
        "##Histogram plot\n",
        "Now checking total number of label (class) in train dataset and plotting distribution of label in histogram."
      ]
    },
    {
      "cell_type": "code",
      "metadata": {
        "id": "yeDRxMaRfGyT",
        "outputId": "de58c0f0-9dc7-40cb-e09e-06d69fea9382",
        "colab": {
          "base_uri": "https://localhost:8080/",
          "height": 507
        }
      },
      "source": [
        "import matplotlib.pyplot as plt\n",
        "\n",
        "value = torch.unique(training_data.targets)\n",
        "print(\"......Total number of class is..............\")\n",
        "print(len(value))\n",
        "print(\"\\n.............Class labels are................\")\n",
        "print(value)\n",
        "print(\"\\n.............histogram plot of class labels............\")\n",
        "plt.style.use('ggplot')\n",
        "plt.xlabel('Classes')\n",
        "plt.ylabel('Frequency')\n",
        "plt.hist(training_data.targets,bins=20)"
      ],
      "execution_count": null,
      "outputs": [
        {
          "output_type": "stream",
          "name": "stdout",
          "text": [
            "......Total number of class is..............\n",
            "10\n",
            "\n",
            ".............Class labels are................\n",
            "tensor([0, 1, 2, 3, 4, 5, 6, 7, 8, 9])\n",
            "\n",
            ".............histogram plot of class labels............\n"
          ]
        },
        {
          "output_type": "execute_result",
          "data": {
            "text/plain": [
              "(array([6000.,    0., 6000.,    0., 6000.,    0., 6000.,    0., 6000.,\n",
              "           0.,    0., 6000.,    0., 6000.,    0., 6000.,    0., 6000.,\n",
              "           0., 6000.]),\n",
              " array([0.  , 0.45, 0.9 , 1.35, 1.8 , 2.25, 2.7 , 3.15, 3.6 , 4.05, 4.5 ,\n",
              "        4.95, 5.4 , 5.85, 6.3 , 6.75, 7.2 , 7.65, 8.1 , 8.55, 9.  ]),\n",
              " <a list of 20 Patch objects>)"
            ]
          },
          "metadata": {},
          "execution_count": 5
        },
        {
          "output_type": "display_data",
          "data": {
            "image/png": "[encoded data removed]",
            "text/plain": [
              "<Figure size 432x288 with 1 Axes>"
            ]
          },
          "metadata": {}
        }
      ]
    },
    {
      "cell_type": "markdown",
      "metadata": {
        "id": "BG4HVh7dp9jX"
      },
      "source": [
        "Now we split training dataset into data for training and validation.\n",
        "**Validation dataset** is the sample of data used to provide an unbiased evaluation of a model fit on the training dataset while tuning model hyperparameters. Validation dataset is used to tune different hyperparameters so the model is unbiased. A model never learns from the validation dataset.\n",
        "\n",
        "Here, we use `torch.utils.data.random_split` api to further split the training dataset. The output will be `Subset` where only indices of original dataset are splited.\n"
      ]
    },
    {
      "cell_type": "code",
      "metadata": {
        "id": "d02csLGii_Co"
      },
      "source": [
        "training_data, val_data = torch.utils.data.random_split(training_data, [50000, 10000])"
      ],
      "execution_count": null,
      "outputs": []
    },
    {
      "cell_type": "code",
      "metadata": {
        "id": "r_csdkNdrprq",
        "outputId": "7a63fbed-6bee-4d32-9929-617c3ab0d22e",
        "colab": {
          "base_uri": "https://localhost:8080/"
        }
      },
      "source": [
        "print(len(training_data.indices))\n",
        "print(len(val_data.indices))"
      ],
      "execution_count": null,
      "outputs": [
        {
          "output_type": "stream",
          "name": "stdout",
          "text": [
            "50000\n",
            "10000\n"
          ]
        }
      ]
    },
    {
      "cell_type": "markdown",
      "metadata": {
        "id": "j61bANnAmdGe"
      },
      "source": [
        "We can see that after the train-validation split,there are 50000 image samples in the final training set that will be used to train the model and 10000 image samples in the validation set that will be used to evaluate the model."
      ]
    },
    {
      "cell_type": "markdown",
      "metadata": {
        "id": "oXhtYjxg-ugh"
      },
      "source": [
        "##3. Plotting training examples\n",
        "\n"
      ]
    },
    {
      "cell_type": "code",
      "source": [
        "item_list = {v: k for k, v in training_data.dataset.class_to_idx.items()}\n",
        "item_list"
      ],
      "metadata": {
        "colab": {
          "base_uri": "https://localhost:8080/"
        },
        "id": "YIBuLaxNEifm",
        "outputId": "c5b6c4e2-9f0c-4697-d78a-0a0bd6f4e4bb"
      },
      "execution_count": null,
      "outputs": [
        {
          "output_type": "execute_result",
          "data": {
            "text/plain": [
              "{0: 'T-shirt/top',\n",
              " 1: 'Trouser',\n",
              " 2: 'Pullover',\n",
              " 3: 'Dress',\n",
              " 4: 'Coat',\n",
              " 5: 'Sandal',\n",
              " 6: 'Shirt',\n",
              " 7: 'Sneaker',\n",
              " 8: 'Bag',\n",
              " 9: 'Ankle boot'}"
            ]
          },
          "metadata": {},
          "execution_count": 8
        }
      ]
    },
    {
      "cell_type": "code",
      "metadata": {
        "id": "5OkeA4pkQoM5",
        "outputId": "fac4580b-3b7e-416f-d124-eaae5dbd3c0f",
        "colab": {
          "base_uri": "https://localhost:8080/",
          "height": 254
        }
      },
      "source": [
        "# plot first few images\n",
        "plt.figure(figsize=(10,10))\n",
        "for i in range(10):\n",
        "  plt.subplot(5,5,i+1)\n",
        "  plt.xticks([])\n",
        "  plt.yticks([])\n",
        "  plt.imshow(training_data[i][0][0], cmap=plt.cm.binary)\n",
        "  plt.xlabel(item_list[training_data[i][1]])\n",
        "plt.show()"
      ],
      "execution_count": null,
      "outputs": [
        {
          "output_type": "display_data",
          "data": {
            "image/png": "[encoded data removed]",
            "text/plain": [
              "<Figure size 720x720 with 10 Axes>"
            ]
          },
          "metadata": {}
        }
      ]
    },
    {
      "cell_type": "markdown",
      "source": [
        "Now we create a `DataLoader` object from dataset for iterating over dataset during training and evaluation supporting automatic batching, sampling, and multiprocess data loading."
      ],
      "metadata": {
        "id": "Y6A65OXDOcqp"
      }
    },
    {
      "cell_type": "code",
      "source": [
        "batch_size = 128\n",
        "\n",
        "from torch.utils.data import DataLoader\n",
        "\n",
        "# we shuffle during training only\n",
        "train_dataloader = DataLoader(training_data, batch_size=batch_size, shuffle=True)\n",
        "val_dataloader = DataLoader(val_data, batch_size=batch_size)\n",
        "test_dataloader = DataLoader(test_data, batch_size=batch_size)"
      ],
      "metadata": {
        "id": "OVU0AhbVOaP0"
      },
      "execution_count": null,
      "outputs": []
    },
    {
      "cell_type": "markdown",
      "metadata": {
        "id": "3QXPIx6ruT1u"
      },
      "source": [
        "Now we have training, validation and test data ready . Our next step is to build an image classification model using ANN.\n",
        "\n"
      ]
    },
    {
      "cell_type": "markdown",
      "metadata": {
        "id": "0R--_ttUnQJn"
      },
      "source": [
        "##Classification using PyTorch"
      ]
    },
    {
      "cell_type": "markdown",
      "metadata": {
        "id": "DtW8is-5nU76"
      },
      "source": [
        "We will firstly implement the classification task using PyTorch library."
      ]
    },
    {
      "cell_type": "markdown",
      "metadata": {
        "id": "ZNf3UlxDIDyx"
      },
      "source": [
        "##1. Defining the model parameters"
      ]
    },
    {
      "cell_type": "code",
      "metadata": {
        "id": "gJ9oaknXOWOv"
      },
      "source": [
        "import numpy as np\n",
        "\n",
        "# the model here will be made of 1 input layer, 3 hidden layers and 1 ouput layer.\n",
        "input_size=np.prod(training_data[0][0].shape[-2:])\n",
        "output_size=len(training_data.dataset.classes)\n",
        "hidden_1_shape=128\n",
        "hidden_2_shape=64\n",
        "hidden_3_shape=32"
      ],
      "execution_count": null,
      "outputs": []
    },
    {
      "cell_type": "markdown",
      "metadata": {
        "id": "jR-fFjj_IOTO"
      },
      "source": [
        "##3. Using the nn.Module Subclasing to create the DL model\n",
        "\n",
        "DL Model is  a trained (or yet to be trained) model which is expected to perform some intelligent stuff. For eg. A diabetes prediction model consist of neural net which can predict whether a person has diabetes when certain features are provided.\n"
      ]
    },
    {
      "cell_type": "code",
      "metadata": {
        "id": "wzXoh6RIOYMg",
        "colab": {
          "base_uri": "https://localhost:8080/"
        },
        "outputId": "e668283a-5a59-413d-8db1-46d638dc15ca"
      },
      "source": [
        "# building model by stacking layers\n",
        "class DLModel(nn.Module):\n",
        "    def __init__(self):\n",
        "        super(DLModel, self).__init__()\n",
        "        self.flatten = nn.Flatten()\n",
        "        self.stacked_layers = nn.Sequential(\n",
        "            nn.Linear(input_size, hidden_1_shape),\n",
        "            nn.ReLU(),\n",
        "            nn.Linear(hidden_1_shape, hidden_2_shape),\n",
        "            nn.ReLU(),\n",
        "            nn.Linear(hidden_2_shape, hidden_3_shape),\n",
        "            nn.ReLU(),\n",
        "            nn.Linear(hidden_3_shape, output_size),\n",
        "        )\n",
        "\n",
        "    def forward(self, inputs):\n",
        "        return self.stacked_layers(self.flatten(inputs))\n",
        "\n",
        "model=DLModel()\n",
        "print(model)"
      ],
      "execution_count": null,
      "outputs": [
        {
          "output_type": "stream",
          "name": "stdout",
          "text": [
            "DLModel(\n",
            "  (flatten): Flatten(start_dim=1, end_dim=-1)\n",
            "  (stacked_layers): Sequential(\n",
            "    (0): Linear(in_features=784, out_features=128, bias=True)\n",
            "    (1): ReLU()\n",
            "    (2): Linear(in_features=128, out_features=64, bias=True)\n",
            "    (3): ReLU()\n",
            "    (4): Linear(in_features=64, out_features=32, bias=True)\n",
            "    (5): ReLU()\n",
            "    (6): Linear(in_features=32, out_features=10, bias=True)\n",
            "  )\n",
            ")\n"
          ]
        }
      ]
    },
    {
      "cell_type": "markdown",
      "metadata": {
        "id": "erd5a74bIVsV"
      },
      "source": [
        "##4.Selecting Loss Function and Optimizer"
      ]
    },
    {
      "cell_type": "code",
      "metadata": {
        "id": "8kGFGIN5QaVZ"
      },
      "source": [
        "# refer to optimizer and loss function chapter to understand, there are several others too\n",
        "loss_func = nn.CrossEntropyLoss()\n",
        "optimizer = torch.optim.Adam(model.parameters())"
      ],
      "execution_count": null,
      "outputs": []
    },
    {
      "cell_type": "markdown",
      "metadata": {
        "id": "ydIdfRCW061B"
      },
      "source": [
        "##5. Model Training\n",
        "\n",
        " **Hyperparameter Tuning :**\n",
        "\n",
        " Parameters which define the model architecture are referred to as hyperparameters and thus this process of searching for the ideal model architecture is referred to as hyperparameter tuning.\n",
        "\n",
        "Some basic example of hyperparameters can be :\n",
        "\n",
        "\n",
        "*   What should be the value of learning rate  for gradient descent?\n",
        "\n",
        "*   How many trees should I include in my random forest?\n",
        "\n",
        "*   How many layers should my neural network have?\n",
        "\n",
        "*   How many neurons should I have in my neural network layer?\n",
        "etc and many more.\n",
        "\n",
        "\n",
        "The most important and basic  concept  is that hyperparameters are not model parameters and they cannot be directly trained from the data. Model parameters are learned during training when we optimize a loss function using something like gradient descent.\n",
        "\n"
      ]
    },
    {
      "cell_type": "markdown",
      "source": [
        "**Training Function**\n",
        "\n",
        "We'll define a function that loops over the training dataset in batches and does model optimization. We'll also write some logging code to display training information like loss, accuracy, etc."
      ],
      "metadata": {
        "id": "0zo9ub5TjHBc"
      }
    },
    {
      "cell_type": "code",
      "metadata": {
        "id": "lCqloR6n1Cl_"
      },
      "source": [
        "def train(dataloader, model, loss_func, optimizer):\n",
        "    num_examples = len(dataloader.dataset)\n",
        "    num_batches = len(dataloader)\n",
        "\n",
        "    # Put model in training mode\n",
        "    model.train()\n",
        "\n",
        "    # Initialize variable to store epoch loss and accuracy\n",
        "    epoch_loss = 0\n",
        "    epoch_correct = 0\n",
        "\n",
        "    # Loops over the training data on batch\n",
        "    for batch, (X, y) in enumerate(dataloader):\n",
        "        # Compute prediction error\n",
        "        pred = model(X)\n",
        "        loss = loss_func(pred, y)\n",
        "\n",
        "        # Remove any previous gradient calculation done by optimizer\n",
        "        optimizer.zero_grad()\n",
        "\n",
        "        # Perform backward propagation\n",
        "        loss.backward()\n",
        "\n",
        "        # Perform gradient update\n",
        "        optimizer.step()\n",
        "\n",
        "        # Calculate accuracy\n",
        "        epoch_correct += (pred.argmax(dim=-1) == y).sum().item()\n",
        "        epoch_loss += loss.item()\n",
        "\n",
        "        # Log at every 100 steps of training\n",
        "        if batch % 100 == 0:\n",
        "            loss, current = loss.item(), batch * len(X)\n",
        "            print(f\"loss: {loss:>7f}  [{current:>5d}/{num_examples:>5d}]\")\n",
        "\n",
        "    # return epoch avg loss and accuracy\n",
        "    return epoch_loss/num_batches, epoch_correct/num_examples"
      ],
      "execution_count": null,
      "outputs": []
    },
    {
      "cell_type": "markdown",
      "source": [
        "**Evaluation Function**\n",
        "\n",
        "We'll define a function that loops over the validation/test dataset in batches and does model evaluation. We'll also write some logging code to display evaluation information like loss, accuracy, etc."
      ],
      "metadata": {
        "id": "duiFG2EEqFCM"
      }
    },
    {
      "cell_type": "code",
      "source": [
        "def evaluate(dataloader, model, loss_func):\n",
        "    num_examples = len(dataloader.dataset)\n",
        "    num_batches = len(dataloader)\n",
        "\n",
        "    # Put model in evalutation mode\n",
        "    model.eval()\n",
        "\n",
        "    # Initialize variable to store loss and accuracy\n",
        "    test_loss = 0\n",
        "    test_correct = 0\n",
        "\n",
        "    # disable gadient calculation during evaluation\n",
        "    with torch.no_grad():\n",
        "        # Loops over the evaluation data on batch\n",
        "        for batch, (X, y) in enumerate(dataloader):\n",
        "            # Compute prediction error\n",
        "            pred = model(X)\n",
        "            loss = loss_func(pred, y)\n",
        "\n",
        "            # Calculate accuracy\n",
        "            test_correct += (pred.argmax(dim=-1) == y).sum().item()\n",
        "            test_loss += loss.item()\n",
        "\n",
        "    # Eval metrics\n",
        "    test_loss = test_loss/num_batches\n",
        "    test_accuracy = test_correct/num_examples\n",
        "    print(f\"Val Metrics: Loss: {test_loss}, Accuracy: {test_accuracy}\")\n",
        "    # return avg loss and accuracy\n",
        "    return test_loss, test_accuracy"
      ],
      "metadata": {
        "id": "jQ2f7mPMp8ho"
      },
      "execution_count": null,
      "outputs": []
    },
    {
      "cell_type": "markdown",
      "source": [
        "**Train and Evaluate Model**\n",
        "The training is done for several iterations(epochs). At the end of each epoch we evaluate the model in validation set."
      ],
      "metadata": {
        "id": "I7pp17xyq9Mb"
      }
    },
    {
      "cell_type": "code",
      "source": [
        "epochs = 30\n",
        "history = {\n",
        "    'loss': [],\n",
        "    'val_loss': [],\n",
        "    'accuracy': [],\n",
        "    'val_accuracy': [],\n",
        "}\n",
        "for ep in range(epochs):\n",
        "    print(f\"Epoch: {ep + 1}\\n--------------------------------\")\n",
        "    train_loss, train_acc = train(train_dataloader, model, loss_func, optimizer)\n",
        "    val_loss, val_acc = evaluate(val_dataloader, model, loss_func)\n",
        "\n",
        "    history['loss'].append(train_loss)\n",
        "    history['val_loss'].append(val_loss)\n",
        "    history['accuracy'].append(train_acc)\n",
        "    history['val_accuracy'].append(val_acc)\n",
        "\n",
        "print(\"Training Complete\")"
      ],
      "metadata": {
        "colab": {
          "base_uri": "https://localhost:8080/"
        },
        "id": "9FZRuV6LruBD",
        "outputId": "a2a0f2c6-696d-484a-b378-fdd10fb5cb15"
      },
      "execution_count": null,
      "outputs": [
        {
          "output_type": "stream",
          "name": "stdout",
          "text": [
            "Epoch: 1\n",
            "--------------------------------\n",
            "loss: 2.308591  [    0/50000]\n",
            "loss: 0.723253  [12800/50000]\n",
            "loss: 0.585041  [25600/50000]\n",
            "loss: 0.426599  [38400/50000]\n",
            "Val Metrics: Loss: 0.4833574766599679, Accuracy: 0.8272\n",
            "Epoch: 2\n",
            "--------------------------------\n",
            "loss: 0.494265  [    0/50000]\n",
            "loss: 0.373949  [12800/50000]\n",
            "loss: 0.436610  [25600/50000]\n",
            "loss: 0.470455  [38400/50000]\n",
            "Val Metrics: Loss: 0.4269138680228704, Accuracy: 0.8481\n",
            "Epoch: 3\n",
            "--------------------------------\n",
            "loss: 0.371796  [    0/50000]\n",
            "loss: 0.452364  [12800/50000]\n",
            "loss: 0.343464  [25600/50000]\n",
            "loss: 0.357870  [38400/50000]\n",
            "Val Metrics: Loss: 0.3895212027091014, Accuracy: 0.8585\n",
            "Epoch: 4\n",
            "--------------------------------\n",
            "loss: 0.318497  [    0/50000]\n",
            "loss: 0.352078  [12800/50000]\n",
            "loss: 0.303401  [25600/50000]\n",
            "loss: 0.313424  [38400/50000]\n",
            "Val Metrics: Loss: 0.36471054391770424, Accuracy: 0.8667\n",
            "Epoch: 5\n",
            "--------------------------------\n",
            "loss: 0.324544  [    0/50000]\n",
            "loss: 0.442693  [12800/50000]\n",
            "loss: 0.373014  [25600/50000]\n",
            "loss: 0.344422  [38400/50000]\n",
            "Val Metrics: Loss: 0.35853863234006905, Accuracy: 0.8668\n",
            "Epoch: 6\n",
            "--------------------------------\n",
            "loss: 0.344839  [    0/50000]\n",
            "loss: 0.449013  [12800/50000]\n",
            "loss: 0.374290  [25600/50000]\n",
            "loss: 0.352876  [38400/50000]\n",
            "Val Metrics: Loss: 0.35154663875133174, Accuracy: 0.8738\n",
            "Epoch: 7\n",
            "--------------------------------\n",
            "loss: 0.245213  [    0/50000]\n",
            "loss: 0.437285  [12800/50000]\n",
            "loss: 0.366696  [25600/50000]\n",
            "loss: 0.317591  [38400/50000]\n",
            "Val Metrics: Loss: 0.35687089249303067, Accuracy: 0.8693\n",
            "Epoch: 8\n",
            "--------------------------------\n",
            "loss: 0.353652  [    0/50000]\n",
            "loss: 0.246648  [12800/50000]\n",
            "loss: 0.264160  [25600/50000]\n",
            "loss: 0.226682  [38400/50000]\n",
            "Val Metrics: Loss: 0.3527705933474287, Accuracy: 0.8698\n",
            "Epoch: 9\n",
            "--------------------------------\n",
            "loss: 0.416723  [    0/50000]\n",
            "loss: 0.280144  [12800/50000]\n",
            "loss: 0.296541  [25600/50000]\n",
            "loss: 0.233987  [38400/50000]\n",
            "Val Metrics: Loss: 0.3197654911988898, Accuracy: 0.8799\n",
            "Epoch: 10\n",
            "--------------------------------\n",
            "loss: 0.277921  [    0/50000]\n",
            "loss: 0.322748  [12800/50000]\n",
            "loss: 0.185994  [25600/50000]\n",
            "loss: 0.282338  [38400/50000]\n",
            "Val Metrics: Loss: 0.32791455486152743, Accuracy: 0.8759\n",
            "Epoch: 11\n",
            "--------------------------------\n",
            "loss: 0.317677  [    0/50000]\n",
            "loss: 0.315371  [12800/50000]\n",
            "loss: 0.239791  [25600/50000]\n",
            "loss: 0.309658  [38400/50000]\n",
            "Val Metrics: Loss: 0.3108704059938841, Accuracy: 0.8864\n",
            "Epoch: 12\n",
            "--------------------------------\n",
            "loss: 0.276898  [    0/50000]\n",
            "loss: 0.325725  [12800/50000]\n",
            "loss: 0.357838  [25600/50000]\n",
            "loss: 0.263710  [38400/50000]\n",
            "Val Metrics: Loss: 0.3133253607946106, Accuracy: 0.8841\n",
            "Epoch: 13\n",
            "--------------------------------\n",
            "loss: 0.210978  [    0/50000]\n",
            "loss: 0.292659  [12800/50000]\n",
            "loss: 0.267492  [25600/50000]\n",
            "loss: 0.149675  [38400/50000]\n",
            "Val Metrics: Loss: 0.3162793981123574, Accuracy: 0.8857\n",
            "Epoch: 14\n",
            "--------------------------------\n",
            "loss: 0.201392  [    0/50000]\n",
            "loss: 0.198056  [12800/50000]\n",
            "loss: 0.132427  [25600/50000]\n",
            "loss: 0.263694  [38400/50000]\n",
            "Val Metrics: Loss: 0.3154249245984645, Accuracy: 0.8862\n",
            "Epoch: 15\n",
            "--------------------------------\n",
            "loss: 0.330786  [    0/50000]\n",
            "loss: 0.183301  [12800/50000]\n",
            "loss: 0.344905  [25600/50000]\n",
            "loss: 0.205231  [38400/50000]\n",
            "Val Metrics: Loss: 0.30057652275773544, Accuracy: 0.8909\n",
            "Epoch: 16\n",
            "--------------------------------\n",
            "loss: 0.174285  [    0/50000]\n",
            "loss: 0.262356  [12800/50000]\n",
            "loss: 0.316063  [25600/50000]\n",
            "loss: 0.182828  [38400/50000]\n",
            "Val Metrics: Loss: 0.3001029804537568, Accuracy: 0.8906\n",
            "Epoch: 17\n",
            "--------------------------------\n",
            "loss: 0.205567  [    0/50000]\n",
            "loss: 0.305752  [12800/50000]\n",
            "loss: 0.147677  [25600/50000]\n",
            "loss: 0.266778  [38400/50000]\n",
            "Val Metrics: Loss: 0.31937163426906245, Accuracy: 0.8863\n",
            "Epoch: 18\n",
            "--------------------------------\n",
            "loss: 0.211812  [    0/50000]\n",
            "loss: 0.207603  [12800/50000]\n",
            "loss: 0.221898  [25600/50000]\n",
            "loss: 0.254888  [38400/50000]\n",
            "Val Metrics: Loss: 0.3029395292831373, Accuracy: 0.8927\n",
            "Epoch: 19\n",
            "--------------------------------\n",
            "loss: 0.133383  [    0/50000]\n",
            "loss: 0.266079  [12800/50000]\n",
            "loss: 0.198177  [25600/50000]\n",
            "loss: 0.163394  [38400/50000]\n",
            "Val Metrics: Loss: 0.3103722756422019, Accuracy: 0.888\n",
            "Epoch: 20\n",
            "--------------------------------\n",
            "loss: 0.177079  [    0/50000]\n",
            "loss: 0.242978  [12800/50000]\n",
            "loss: 0.207464  [25600/50000]\n",
            "loss: 0.184921  [38400/50000]\n",
            "Val Metrics: Loss: 0.30357431648652766, Accuracy: 0.8939\n",
            "Epoch: 21\n",
            "--------------------------------\n",
            "loss: 0.179409  [    0/50000]\n",
            "loss: 0.162701  [12800/50000]\n",
            "loss: 0.168907  [25600/50000]\n",
            "loss: 0.263532  [38400/50000]\n",
            "Val Metrics: Loss: 0.32302631437778473, Accuracy: 0.8897\n",
            "Epoch: 22\n",
            "--------------------------------\n",
            "loss: 0.273669  [    0/50000]\n",
            "loss: 0.162621  [12800/50000]\n",
            "loss: 0.197159  [25600/50000]\n",
            "loss: 0.176205  [38400/50000]\n",
            "Val Metrics: Loss: 0.312286588964583, Accuracy: 0.8913\n",
            "Epoch: 23\n",
            "--------------------------------\n",
            "loss: 0.185694  [    0/50000]\n",
            "loss: 0.274984  [12800/50000]\n",
            "loss: 0.233102  [25600/50000]\n",
            "loss: 0.216214  [38400/50000]\n",
            "Val Metrics: Loss: 0.31039315556423575, Accuracy: 0.8956\n",
            "Epoch: 24\n",
            "--------------------------------\n",
            "loss: 0.181813  [    0/50000]\n",
            "loss: 0.102970  [12800/50000]\n",
            "loss: 0.231146  [25600/50000]\n",
            "loss: 0.195567  [38400/50000]\n",
            "Val Metrics: Loss: 0.3187105836747568, Accuracy: 0.8902\n",
            "Epoch: 25\n",
            "--------------------------------\n",
            "loss: 0.218888  [    0/50000]\n",
            "loss: 0.173643  [12800/50000]\n",
            "loss: 0.217995  [25600/50000]\n",
            "loss: 0.170160  [38400/50000]\n",
            "Val Metrics: Loss: 0.31505664994445026, Accuracy: 0.8946\n",
            "Epoch: 26\n",
            "--------------------------------\n",
            "loss: 0.157680  [    0/50000]\n",
            "loss: 0.079604  [12800/50000]\n",
            "loss: 0.160251  [25600/50000]\n",
            "loss: 0.234561  [38400/50000]\n",
            "Val Metrics: Loss: 0.30927687638168094, Accuracy: 0.8937\n",
            "Epoch: 27\n",
            "--------------------------------\n",
            "loss: 0.154097  [    0/50000]\n",
            "loss: 0.160471  [12800/50000]\n",
            "loss: 0.144296  [25600/50000]\n",
            "loss: 0.256508  [38400/50000]\n",
            "Val Metrics: Loss: 0.3234109059919285, Accuracy: 0.8947\n",
            "Epoch: 28\n",
            "--------------------------------\n",
            "loss: 0.114265  [    0/50000]\n",
            "loss: 0.181142  [12800/50000]\n",
            "loss: 0.155804  [25600/50000]\n",
            "loss: 0.189834  [38400/50000]\n",
            "Val Metrics: Loss: 0.3288884634458566, Accuracy: 0.894\n",
            "Epoch: 29\n",
            "--------------------------------\n",
            "loss: 0.172143  [    0/50000]\n",
            "loss: 0.078076  [12800/50000]\n",
            "loss: 0.151542  [25600/50000]\n",
            "loss: 0.201825  [38400/50000]\n",
            "Val Metrics: Loss: 0.34252347429341906, Accuracy: 0.8906\n",
            "Epoch: 30\n",
            "--------------------------------\n",
            "loss: 0.169860  [    0/50000]\n",
            "loss: 0.146047  [12800/50000]\n",
            "loss: 0.178293  [25600/50000]\n",
            "loss: 0.123918  [38400/50000]\n",
            "Val Metrics: Loss: 0.3354136426992054, Accuracy: 0.8905\n",
            "Training Complete\n"
          ]
        }
      ]
    },
    {
      "cell_type": "markdown",
      "metadata": {
        "id": "OptANOsN3XGW"
      },
      "source": [
        "##6. Visualizing Training Loss and Validation Loss"
      ]
    },
    {
      "cell_type": "code",
      "metadata": {
        "id": "CYtkJY703mE_",
        "outputId": "2619b025-905b-4369-c6dd-95fcdf943835",
        "colab": {
          "base_uri": "https://localhost:8080/",
          "height": 631
        }
      },
      "source": [
        "# to visualize the train and validation loss throughout the process\n",
        "\n",
        "x = range(0,epochs)\n",
        "plt.figure(figsize=(10,10))\n",
        "plt.plot(x, history['loss'], label='Training Loss')\n",
        "plt.plot(x, history['val_loss'], label='Validating Loss')\n",
        "plt.xlabel('No. of Epochs', fontsize=18)\n",
        "plt.ylabel('Loss',fontsize=18)\n",
        "plt.legend(loc='upper right',fontsize=18)"
      ],
      "execution_count": null,
      "outputs": [
        {
          "output_type": "execute_result",
          "data": {
            "text/plain": [
              "<matplotlib.legend.Legend at 0x7f18b7d74b90>"
            ]
          },
          "metadata": {},
          "execution_count": 17
        },
        {
          "output_type": "display_data",
          "data": {
            "image/png": "[encoded data removed]",
            "text/plain": [
              "<Figure size 720x720 with 1 Axes>"
            ]
          },
          "metadata": {}
        }
      ]
    },
    {
      "cell_type": "markdown",
      "metadata": {
        "id": "zNBk1cfM5Zol"
      },
      "source": [
        "In the plot above, we can see two curves : one for training loss and one validation loss. **Training loss** is the loss calculated on the train set (which includes **both forward and backward propagation**) whereas **validation loss** is calculated on the validation set(which includes only forward propagation of validation data through the model being trained on the train set)."
      ]
    },
    {
      "cell_type": "markdown",
      "metadata": {
        "id": "XQa5cQV5I5Mk"
      },
      "source": [
        "##7.Testing the Model\n",
        "\n",
        "Now, we use the trained model on our test set to predict class labels."
      ]
    },
    {
      "cell_type": "code",
      "metadata": {
        "id": "TFbgz2FRTmLc",
        "outputId": "868203b5-a5eb-4023-f21a-2a46ea899ea2",
        "colab": {
          "base_uri": "https://localhost:8080/"
        }
      },
      "source": [
        "loss,accuracy = evaluate(test_dataloader, model, loss_func)\n",
        "\n",
        "print('\\nTest accuracy:', accuracy)"
      ],
      "execution_count": null,
      "outputs": [
        {
          "output_type": "stream",
          "name": "stdout",
          "text": [
            "Val Metrics: Loss: 0.3808965643372717, Accuracy: 0.8848\n",
            "\n",
            "Test accuracy: 0.8848\n"
          ]
        }
      ]
    },
    {
      "cell_type": "code",
      "metadata": {
        "id": "_2iuQaHHod8u"
      },
      "source": [
        "# predicting value at final layer for each example in the test set\n",
        "prediction = torch.Tensor()\n",
        "y_test = torch.Tensor()\n",
        "X_test = torch.Tensor()\n",
        "for X, y in test_dataloader:\n",
        "    with torch.no_grad():\n",
        "        # Need to calculate probability from softmax\n",
        "        pred = torch.softmax(model(X), dim=-1)\n",
        "        prediction = torch.concat([prediction, pred])\n",
        "        y_test = torch.concat([y_test, y])\n",
        "        X_test = torch.concat([X_test, X])"
      ],
      "execution_count": null,
      "outputs": []
    },
    {
      "cell_type": "code",
      "metadata": {
        "id": "23gzKdIboplH",
        "outputId": "9e028e0c-7e9d-4977-f256-29e6ff096ebb",
        "colab": {
          "base_uri": "https://localhost:8080/"
        }
      },
      "source": [
        "# since we have 10 nodes at final layer and 10000 examples\n",
        "# sum of value of 10 nodes for each example = 1 , since softmax at final layer\n",
        "# value at each node is probability of that example to be of that class.\n",
        "prediction.shape"
      ],
      "execution_count": null,
      "outputs": [
        {
          "output_type": "execute_result",
          "data": {
            "text/plain": [
              "torch.Size([10000, 10])"
            ]
          },
          "metadata": {},
          "execution_count": 55
        }
      ]
    },
    {
      "cell_type": "code",
      "metadata": {
        "id": "1xBcAauXornw"
      },
      "source": [
        "# choosing class with highest probability\n",
        "predicted = prediction.argmax(dim=-1)"
      ],
      "execution_count": null,
      "outputs": []
    },
    {
      "cell_type": "code",
      "metadata": {
        "id": "LfSkFOKko8VX",
        "outputId": "c2973a53-f83e-41e7-f32b-db8c670e39d3",
        "colab": {
          "base_uri": "https://localhost:8080/"
        }
      },
      "source": [
        "# since we have 10000 examples 'predicted' has class with highest probability for each\n",
        "predicted.shape\n",
        "\n",
        "# let us check the class for out first test sample\n",
        "print('\\n Predicted class for 1st test sample:', predicted[0])\n",
        "print('\\n Actual class for 1st test sample:', y_test[0])"
      ],
      "execution_count": null,
      "outputs": [
        {
          "output_type": "stream",
          "name": "stdout",
          "text": [
            "\n",
            " Predicted class for 1st test sample: tensor(9)\n",
            "\n",
            " Actual class for 1st test sample: tensor(9.)\n"
          ]
        }
      ]
    },
    {
      "cell_type": "markdown",
      "metadata": {
        "id": "jRA5bwn2JSgT"
      },
      "source": [
        "##8.Displaying the Predicted Results"
      ]
    },
    {
      "cell_type": "code",
      "metadata": {
        "id": "BcsisPMTxYt9"
      },
      "source": [
        "def plot_image(i, predictions_array, true_label, img):\n",
        "  '''function to plot sample images with\n",
        "  actual and predicted labels'''\n",
        "  predictions_array, true_label, img = predictions_array, true_label[i].item(), img[i]\n",
        "  plt.grid(False)\n",
        "  plt.xticks([])\n",
        "  plt.yticks([])\n",
        "\n",
        "  plt.imshow(img, cmap=plt.cm.binary)\n",
        "\n",
        "  # for the image plot, we check if the predicted label is equal to the actual label or not.\n",
        "  predicted_label = predictions_array.argmax(dim=-1).item()\n",
        "  if predicted_label == true_label:\n",
        "    color = 'blue'\n",
        "  else:\n",
        "    color = 'red'\n",
        "\n",
        "  # we label the images as Predicted class, predicted probability and actual label\n",
        "  plt.xlabel(\"{} {:2.0f}% (Actual:{})\".format(item_list[predicted_label],\n",
        "                                              100*predictions_array.max().item(),\n",
        "                                              item_list[true_label]),\n",
        "                                              color=color,fontsize=18)\n",
        "\n",
        "def plot_value_array(i, predictions_array, true_label):\n",
        "  '''function to plot prediction probability for sample images'''\n",
        "  predictions_array, true_label = predictions_array, int(true_label[i].item())\n",
        "  plt.grid(False)\n",
        "  plt.xticks(range(10))\n",
        "  plt.yticks([])\n",
        "  plt.xlabel('Classes')\n",
        "  plt.ylabel('Probability')\n",
        "  thisplot = plt.bar(range(10), predictions_array, color=\"#777777\")\n",
        "  plt.ylim([0, 1])\n",
        "  predicted_label = predictions_array.argmax(dim=-1).item()\n",
        "\n",
        "  thisplot[predicted_label].set_color('red')\n",
        "  thisplot[true_label].set_color('blue')"
      ],
      "execution_count": null,
      "outputs": []
    },
    {
      "cell_type": "code",
      "metadata": {
        "id": "IwjhBvAAvsN1",
        "outputId": "ea699cf8-2c8f-495c-9b5d-612767685cce",
        "colab": {
          "base_uri": "https://localhost:8080/",
          "height": 973
        }
      },
      "source": [
        "# We now plot the first X test images, their predicted labels, and the true labels.\n",
        "# the colors as mentioned above: correct predictions in blue and incorrect predictions in red.\n",
        "\n",
        "# Remove extra dimension\n",
        "X_test = torch.squeeze(X_test)\n",
        "\n",
        "num_rows = 5\n",
        "num_cols = 3\n",
        "num_images = num_rows*num_cols\n",
        "plt.figure(figsize=(3*3*num_cols, 3*num_rows))\n",
        "for i in range(num_images):\n",
        "  plt.subplot(num_rows, 2*num_cols, 2*i+1)\n",
        "  plot_image(i, prediction[i], y_test, X_test)\n",
        "  plt.subplot(num_rows, 2*num_cols, 2*i+2)\n",
        "  plot_value_array(i, prediction[i], y_test)\n",
        "plt.tight_layout()\n",
        "plt.show()"
      ],
      "execution_count": null,
      "outputs": [
        {
          "output_type": "display_data",
          "data": {
            "image/png": "[encoded data removed]",
            "text/plain": [
              "<Figure size 1944x1080 with 30 Axes>"
            ]
          },
          "metadata": {}
        }
      ]
    },
    {
      "cell_type": "markdown",
      "metadata": {
        "id": "fwWG9lZvRbcY"
      },
      "source": [
        "We can see from the above plot and predictions that our model is **not 100% accurate** in its predictions. This is pretty common in machine learning projects and a perfect accuracy score is more of a **theoretical concept**. Surely, our aim should be to obtain as much accuracy as possible and depending on our task it can be other metrics that we might want to improve. Moreover, the metrics scores that we want to settle for will also depend on the area we are planning to apply the model results. Concerns about underfitted and overfitted model may also arise. To put it simply for now, a model is said to be **underfitted when it over simplifies the given problem** and performs badly on both train and test data. On the other hand, an overfitted model is one that **fits to the training data so well that it loses its ability to generalize on the test data**. In the later chapters, we will study about ways to improve our model. But for now, this Deep Learning Pipeline can be a base for building future models."
      ]
    },
    {
      "cell_type": "markdown",
      "metadata": {
        "id": "u4dttz-Sln3s"
      },
      "source": [
        "##Key Takeaways:\n",
        "\n",
        "\n",
        "1.   The dataset available to us is usually split into train, validation and test set.\n",
        "2. 100% accuracy in DL models is more of a theoretical concept.\n",
        "\n"
      ]
    }
  ]
}