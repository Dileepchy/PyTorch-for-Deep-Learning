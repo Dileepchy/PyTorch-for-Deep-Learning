{
  "nbformat": 4,
  "nbformat_minor": 0,
  "metadata": {
    "colab": {
      "provenance": []
    },
    "kernelspec": {
      "name": "python3",
      "display_name": "Python 3"
    }
  },
  "cells": [
    {
      "cell_type": "markdown",
      "metadata": {
        "id": "DRZXF4RExaot"
      },
      "source": [
        "#**ANN in PyTorch using Functional API**\n",
        "\n",
        "In this reading material, you'll learn how to build a simple ANN model, train it using training set,tune different hyperparameter using validation test and finally test our built model. Basically, we will be building basic ANN model in pytorch  and evaluate it.\n",
        "\n",
        "##Prerequisites:\n",
        "\n",
        "\n",
        "1.   Knowledge about commonly used functions in PyTorch.\n",
        "2.   Basic workflow of an ANN model.\n",
        "\n",
        "##Learning Objectives:\n",
        "\n",
        "\n",
        "1.   Learn about terminologies related to ANN\n",
        "2.   Learn how to implement a simple ANN in PyTorch using Functional API\n",
        "\n",
        "\n",
        "\n"
      ]
    },
    {
      "cell_type": "markdown",
      "metadata": {
        "id": "NQJfOvGBcKdt"
      },
      "source": [
        "## Implementing simple ANN using PyTorch"
      ]
    },
    {
      "cell_type": "markdown",
      "metadata": {
        "id": "YkEK8dSI8zBd"
      },
      "source": [
        "##1.Importing PyTorch"
      ]
    },
    {
      "cell_type": "code",
      "metadata": {
        "id": "tOD9uV5GcPR2"
      },
      "source": [
        "import torch\n",
        "from torch import nn\n",
        "import torch.nn.functional as F"
      ],
      "execution_count": null,
      "outputs": []
    },
    {
      "cell_type": "markdown",
      "metadata": {
        "id": "_rW50r2zdg7n"
      },
      "source": [
        "##2. Downloading dataset and Exploring the data\n",
        "We start by downloading the Fashion MNIST dataset to perform classification.To download it, we use TorchVision datasets API.\n"
      ]
    },
    {
      "cell_type": "code",
      "metadata": {
        "id": "bubl_yu3cnfV"
      },
      "source": [
        "from torchvision import datasets\n",
        "from torchvision.transforms import ToTensor\n",
        "\n",
        "# Download training data from open datasets.\n",
        "training_data = datasets.FashionMNIST(\n",
        "    root=\"data\",\n",
        "    train=True,\n",
        "    download=True,\n",
        "    transform=ToTensor(), # Read file and convert image to Tensor\n",
        ")\n",
        "\n",
        "# Download test data from open datasets.\n",
        "test_data = datasets.FashionMNIST(\n",
        "    root=\"data\",\n",
        "    train=False,\n",
        "    download=True,\n",
        "    transform=ToTensor(),\n",
        ")"
      ],
      "execution_count": null,
      "outputs": []
    },
    {
      "cell_type": "markdown",
      "metadata": {
        "id": "e6N0GtDvqDMl"
      },
      "source": [
        " **Dataset Split ratio :**\n",
        "\n",
        " Dataset split normally depends upon two things.First, the total number of samples in  data and second, on the actual model we are training.\n",
        "\n",
        " First , we split the data into train set and test set say, $x\\%$ data is kept for test set. Remaining $(100-x)\\%$ is now split into actual training set and validation set.say $y\\%$ is kept for validation set then the final training set becomes $((100-x)-y)\\%$ , validation set becomes $y\\%$ and test set becomes $x\\%$.\n",
        "\n",
        "\n",
        "Here `training_data` is our **training dataset**. Training Dataset is an actual dataset that we use to train the model (weights and biases in the case of Neural Network). The model sees and learns from this data. Further split of train set into validation set and train set is done later in the code.\n",
        "\n",
        "`test_data` is our **test dataset**. which is the sample of data used to provide an unbiased evaluation of a final model .Our model only sees the test dataset at the end, it is used as final evaluation of the model"
      ]
    },
    {
      "cell_type": "markdown",
      "metadata": {
        "id": "55wwikaSf2xC"
      },
      "source": [
        "Lets check the shape of train and test datasets."
      ]
    },
    {
      "cell_type": "code",
      "metadata": {
        "id": "s6tgA6s0dxhv",
        "outputId": "653630d8-7772-4c01-8049-965296988937",
        "colab": {
          "base_uri": "https://localhost:8080/"
        }
      },
      "source": [
        "print(training_data.data.shape, training_data.targets.shape)\n",
        "print(test_data.data.shape, test_data.targets.shape)"
      ],
      "execution_count": null,
      "outputs": [
        {
          "output_type": "stream",
          "name": "stdout",
          "text": [
            "torch.Size([60000, 28, 28]) torch.Size([60000])\n",
            "torch.Size([10000, 28, 28]) torch.Size([10000])\n"
          ]
        }
      ]
    },
    {
      "cell_type": "markdown",
      "metadata": {
        "id": "rS9N7LO3eYey"
      },
      "source": [
        "Here, `training_data.data` shape (60000,28,28) means it has 60k examples of image each of size 28*28 and `training_data.targets` shape (60000,) means it has one label for each 60k training image. Further Exploration of data is done below:"
      ]
    },
    {
      "cell_type": "code",
      "metadata": {
        "id": "FCq2QsQneWKz",
        "outputId": "e3f843a5-ea8b-4a1d-ac8d-ce44751c7d80",
        "colab": {
          "base_uri": "https://localhost:8080/"
        }
      },
      "source": [
        "print(\".............1st sample data value...............\")\n",
        "print(training_data.data[0,10:15,10:15])\n",
        "print(\"...............1st sample label.................\")\n",
        "print(training_data.targets[0])"
      ],
      "execution_count": null,
      "outputs": [
        {
          "output_type": "stream",
          "name": "stdout",
          "text": [
            ".............1st sample data value...............\n",
            "tensor([[  0,   0,   0, 193, 228],\n",
            "        [  3,   0,  12, 219, 220],\n",
            "        [  6,   0,  99, 244, 222],\n",
            "        [  0,   0,  55, 236, 228],\n",
            "        [  0,   0, 237, 226, 217]], dtype=torch.uint8)\n",
            "...............1st sample label.................\n",
            "tensor(9)\n"
          ]
        }
      ]
    },
    {
      "cell_type": "markdown",
      "metadata": {
        "id": "PL45Q-9of-k-"
      },
      "source": [
        "##Histogram plot\n",
        "Now checking total number of label (class) in train dataset and plotting distribution of label in histogram."
      ]
    },
    {
      "cell_type": "code",
      "metadata": {
        "id": "yeDRxMaRfGyT",
        "outputId": "f83defe6-c33e-44cb-9a71-60fc2ed38009",
        "colab": {
          "base_uri": "https://localhost:8080/",
          "height": 507
        }
      },
      "source": [
        "import matplotlib.pyplot as plt\n",
        "value = torch.unique(training_data.targets)\n",
        "print(\"......Total number of class is..............\")\n",
        "print(len(value))\n",
        "print(\"\\n.............Class labels are................\")\n",
        "print(value)\n",
        "print(\"\\n.............histogram plot of class labels............\")\n",
        "plt.style.use('ggplot')\n",
        "plt.xlabel('Classes')\n",
        "plt.ylabel('Frequency')\n",
        "plt.hist(training_data.targets,bins=20)"
      ],
      "execution_count": null,
      "outputs": [
        {
          "output_type": "stream",
          "name": "stdout",
          "text": [
            "......Total number of class is..............\n",
            "10\n",
            "\n",
            ".............Class labels are................\n",
            "tensor([0, 1, 2, 3, 4, 5, 6, 7, 8, 9])\n",
            "\n",
            ".............histogram plot of class labels............\n"
          ]
        },
        {
          "output_type": "execute_result",
          "data": {
            "text/plain": [
              "(array([6000.,    0., 6000.,    0., 6000.,    0., 6000.,    0., 6000.,\n",
              "           0.,    0., 6000.,    0., 6000.,    0., 6000.,    0., 6000.,\n",
              "           0., 6000.]),\n",
              " array([0.  , 0.45, 0.9 , 1.35, 1.8 , 2.25, 2.7 , 3.15, 3.6 , 4.05, 4.5 ,\n",
              "        4.95, 5.4 , 5.85, 6.3 , 6.75, 7.2 , 7.65, 8.1 , 8.55, 9.  ]),\n",
              " <a list of 20 Patch objects>)"
            ]
          },
          "metadata": {},
          "execution_count": 5
        },
        {
          "output_type": "display_data",
          "data": {
            "image/png": "[encoded data removed]",
            "text/plain": [
              "<Figure size 432x288 with 1 Axes>"
            ]
          },
          "metadata": {}
        }
      ]
    },
    {
      "cell_type": "markdown",
      "metadata": {
        "id": "BG4HVh7dp9jX"
      },
      "source": [
        "Now we split training dataset into data for training and validation.\n",
        "**Validation dataset** is the sample of data used to provide an unbiased evaluation of a model fit on the training dataset while tuning model hyperparameters. Validation dataset is used to tune different hyperparameters so the model is unbiased. A model never learns from the validation dataset.\n",
        "\n",
        "Here, we use `torch.utils.data.random_split` api to further split the training dataset. The output will be `Subset` where only indices of original dataset are splited."
      ]
    },
    {
      "cell_type": "code",
      "metadata": {
        "id": "WZQlIxEEh-RE"
      },
      "source": [
        "training_data, val_data = torch.utils.data.random_split(training_data, [50000, 10000])"
      ],
      "execution_count": null,
      "outputs": []
    },
    {
      "cell_type": "code",
      "metadata": {
        "id": "d02csLGii_Co",
        "colab": {
          "base_uri": "https://localhost:8080/"
        },
        "outputId": "e4b75bb0-03cf-4124-bf59-58bf6a32953a"
      },
      "source": [
        "print(len(training_data.indices))\n",
        "print(len(val_data.indices))"
      ],
      "execution_count": null,
      "outputs": [
        {
          "output_type": "stream",
          "name": "stdout",
          "text": [
            "50000\n",
            "10000\n"
          ]
        }
      ]
    },
    {
      "cell_type": "markdown",
      "metadata": {
        "id": "JuXkfOMqttVA"
      },
      "source": [
        "We can see that after the train-validation split,there are 50000 image samples in the final training set that will be used to train the model and 10000 image samples in the validation set that will be used to evaluate the model."
      ]
    },
    {
      "cell_type": "markdown",
      "metadata": {
        "id": "oXhtYjxg-ugh"
      },
      "source": [
        "##3. Plotting training examples\n",
        "\n"
      ]
    },
    {
      "cell_type": "code",
      "metadata": {
        "id": "FT79vO4KtZ4e",
        "colab": {
          "base_uri": "https://localhost:8080/"
        },
        "outputId": "7d73dc78-6142-4a2b-dac6-0263dab32121"
      },
      "source": [
        "item_list = {v: k for k, v in training_data.dataset.class_to_idx.items()}\n",
        "item_list"
      ],
      "execution_count": null,
      "outputs": [
        {
          "output_type": "execute_result",
          "data": {
            "text/plain": [
              "{0: 'T-shirt/top',\n",
              " 1: 'Trouser',\n",
              " 2: 'Pullover',\n",
              " 3: 'Dress',\n",
              " 4: 'Coat',\n",
              " 5: 'Sandal',\n",
              " 6: 'Shirt',\n",
              " 7: 'Sneaker',\n",
              " 8: 'Bag',\n",
              " 9: 'Ankle boot'}"
            ]
          },
          "metadata": {},
          "execution_count": 8
        }
      ]
    },
    {
      "cell_type": "code",
      "metadata": {
        "id": "5OkeA4pkQoM5",
        "outputId": "19020350-fd32-405e-fce1-4e5589bde4c8",
        "colab": {
          "base_uri": "https://localhost:8080/",
          "height": 254
        }
      },
      "source": [
        "# plot first few images\n",
        "plt.figure(figsize=(10,10))\n",
        "for i in range(10):\n",
        "  plt.subplot(5,5,i+1)\n",
        "  plt.xticks([])\n",
        "  plt.yticks([])\n",
        "  plt.imshow(training_data[i][0][0], cmap=plt.cm.binary)\n",
        "  plt.xlabel(item_list[training_data[i][1]])\n",
        "plt.show()"
      ],
      "execution_count": null,
      "outputs": [
        {
          "output_type": "display_data",
          "data": {
            "image/png": "[encoded data removed]",
            "text/plain": [
              "<Figure size 720x720 with 10 Axes>"
            ]
          },
          "metadata": {}
        }
      ]
    },
    {
      "cell_type": "markdown",
      "source": [
        "Now we create a `DataLoader` object from dataset for iterating over dataset during training and evaluation supporting automatic batching, sampling, and multiprocess data loading."
      ],
      "metadata": {
        "id": "Y6A65OXDOcqp"
      }
    },
    {
      "cell_type": "code",
      "source": [
        "batch_size = 128\n",
        "\n",
        "from torch.utils.data import DataLoader\n",
        "\n",
        "# we shuffle during training only\n",
        "train_dataloader = DataLoader(training_data, batch_size=batch_size, shuffle=True)\n",
        "val_dataloader = DataLoader(val_data, batch_size=batch_size)\n",
        "test_dataloader = DataLoader(test_data, batch_size=batch_size)\n",
        "\n",
        "print(len(train_dataloader.dataset),\n",
        "      len(val_dataloader.dataset),\n",
        "      len(test_dataloader.dataset),)"
      ],
      "metadata": {
        "colab": {
          "base_uri": "https://localhost:8080/"
        },
        "id": "DhJ3ZP-Zfrvv",
        "outputId": "77d10ae8-2444-45bf-a12d-601a48977ffb"
      },
      "execution_count": null,
      "outputs": [
        {
          "output_type": "stream",
          "name": "stdout",
          "text": [
            "50000 10000 10000\n"
          ]
        }
      ]
    },
    {
      "cell_type": "markdown",
      "metadata": {
        "id": "3QXPIx6ruT1u"
      },
      "source": [
        "Now we have training, validation and test data ready . Our next step is to build an image classification model using ANN.\n",
        "\n"
      ]
    },
    {
      "cell_type": "markdown",
      "metadata": {
        "id": "OY7ZSvLVCfy6"
      },
      "source": [
        "##3. Building the ANN Model using PyTorch\n",
        "\n",
        "For this, we build a model with an input layer, 3 hidden layers and output layer.\n",
        "The first hidden layer consist of 128 neurons, second hidden layer consists of 64 neurons and third hidden layer consists of 32 neurons. Input layer must consist 28*28=784 neurons as our input data dimension is fixed and output layer consist of 10 neurons (as we have 10 classes to classify as our target)."
      ]
    },
    {
      "cell_type": "code",
      "metadata": {
        "id": "iz3-5YNevUCG"
      },
      "source": [
        "import numpy as np\n",
        "# Let us initialize the weight matrix using knowledge from previous chapter\n",
        "\n",
        "input_size = np.prod(training_data[0][0].shape[-2:])\n",
        "output_size = len(training_data.dataset.classes)\n",
        "hidden_1_shape = 128\n",
        "hidden_2_shape = 64\n",
        "hidden_3_shape = 32\n",
        "\n",
        "\n",
        "# initialize variables for weights\n",
        "# for weight dimension refer to reading material of forward propagation\n",
        "weights = {\n",
        "    'hidden_1': torch.empty((hidden_1_shape, input_size)),\n",
        "    'hidden_2': torch.empty((hidden_2_shape, hidden_1_shape)),\n",
        "    'hidden_3': torch.empty((hidden_3_shape, hidden_2_shape)),\n",
        "    'output': torch.empty((output_size, hidden_3_shape)),\n",
        "    'hidden_1_bias': torch.zeros((hidden_1_shape,)),\n",
        "    'hidden_2_bias': torch.zeros((hidden_2_shape,)),\n",
        "    'hidden_3_bias': torch.zeros((hidden_3_shape,)),\n",
        "    'output_bias': torch.zeros((output_size,)),\n",
        "}\n",
        "\n",
        "# Initialize weights\n",
        "# Refer `https://pytorch.org/docs/stable/nn.init.html` for different intializers\n",
        "for n, w in weights.items():\n",
        "    if 'bias' not in n:\n",
        "        # Biases are intialized to zero\n",
        "        nn.init.xavier_normal_(w)\n",
        "\n",
        "# Enable gradient calculation for weights and biases\n",
        "for _, w in weights.items():\n",
        "    w.requires_grad = True"
      ],
      "execution_count": null,
      "outputs": []
    },
    {
      "cell_type": "markdown",
      "metadata": {
        "id": "erd5a74bIVsV"
      },
      "source": [
        "##4.Selecting Loss Function and Optimizer"
      ]
    },
    {
      "cell_type": "code",
      "metadata": {
        "id": "8kGFGIN5QaVZ"
      },
      "source": [
        "# refer to optimizer and loss function chapter to understand, there are several others too\n",
        "loss_func = nn.CrossEntropyLoss()\n",
        "optimizer = torch.optim.Adam([w for _, w in weights.items()])"
      ],
      "execution_count": null,
      "outputs": []
    },
    {
      "cell_type": "markdown",
      "metadata": {
        "id": "k-wkKO8JEBuR"
      },
      "source": [
        "##4. Training the model\n",
        "\n",
        "**Hyperparameter Tuning :**\n",
        "\n",
        " Parameters which define the model architecture are referred to as hyperparameters and thus this process of searching for the ideal model architecture is referred to as hyperparameter tuning.\n",
        "\n",
        "Some basic example of hyperparameters can be :\n",
        "\n",
        "\n",
        "*   What should be the value of learning rate  for gradient descent?\n",
        "\n",
        "*   How many trees should I include in my random forest?\n",
        "\n",
        "*   How many layers should my neural network have?\n",
        "\n",
        "*   How many neurons should I have in my neural network layer?\n",
        "etc and many more.\n",
        "\n",
        "\n",
        "The most important and basic  concept  is that hyperparameters are not model parameters and they cannot be directly trained from the data. Model parameters are learned during training when we optimize a loss function using something like gradient descent.\n",
        "\n",
        "**DL Model :**\n",
        "\n",
        "DL Model is  a trained (or yet to be trained) model which is expected to perform some intelligent stuff. For eg. A diabetes prediction model consist of neural net which can predict whether a person has diabetes when certain features are provided.\n",
        "\n"
      ]
    },
    {
      "cell_type": "code",
      "metadata": {
        "id": "c_99kDPlH55D"
      },
      "source": [
        "def train_epoch_by_epoch(dataloader):\n",
        "  \"\"\"\n",
        "  Forward propagation and backward propagation occours.\n",
        "\n",
        "  Parameters\n",
        "  ----------\n",
        "  dataloader: DataLoader\n",
        "    Train dataset\n",
        "\n",
        "  Returns\n",
        "  -------\n",
        "  True after training process is completed\n",
        "  \"\"\"\n",
        "  for batch, (X, y) in enumerate(dataloader):\n",
        "    batch_size = X.size()[0]\n",
        "    fc_0 = torch.reshape(X, (batch_size, -1))\n",
        "    fc_1 = F.relu(F.linear(fc_0, weights['hidden_1'], weights['hidden_1_bias']))\n",
        "    fc_2 = F.relu(F.linear(fc_1, weights['hidden_2'], weights['hidden_2_bias']))\n",
        "    fc_3 = F.relu(F.linear(fc_2, weights['hidden_3'], weights['hidden_3_bias']))\n",
        "    pred = F.linear(fc_3, weights['output'], weights['output_bias'])\n",
        "\n",
        "    cost = loss_func(pred, y)\n",
        "\n",
        "    optimizer.zero_grad()\n",
        "    cost.backward()\n",
        "    optimizer.step()\n",
        "  return True"
      ],
      "execution_count": null,
      "outputs": []
    },
    {
      "cell_type": "code",
      "metadata": {
        "id": "hOhF5rNuYPIf"
      },
      "source": [
        "def eval_epoch_by_epoch(dataloader):\n",
        "  \"\"\"\n",
        "  Only forward propagates to evaluate training validation accuracy.\n",
        "\n",
        "  Parameters\n",
        "  ----------\n",
        "  dataloader: DataLoader\n",
        "    Eval dataset\n",
        "\n",
        "  Returns\n",
        "  -------\n",
        "  Total cost per iteration and accuracy per iteration\n",
        "  \"\"\"\n",
        "  num_examples = len(dataloader.dataset)\n",
        "  num_batches = len(dataloader)\n",
        "\n",
        "  tot_cost=0\n",
        "  accuracy=0\n",
        "  with torch.no_grad():\n",
        "    for batch, (X, y) in enumerate(dataloader):\n",
        "        batch_size = X.size()[0]\n",
        "\n",
        "        fc_0 = torch.reshape(X, (batch_size, -1))\n",
        "        fc_1 = F.relu(F.linear(fc_0, weights['hidden_1'], weights['hidden_1_bias']))\n",
        "        fc_2 = F.relu(F.linear(fc_1, weights['hidden_2'], weights['hidden_2_bias']))\n",
        "        fc_3 = F.relu(F.linear(fc_2, weights['hidden_3'], weights['hidden_3_bias']))\n",
        "        pred = F.linear(fc_3, weights['output'], weights['output_bias'])\n",
        "\n",
        "        tot_cost += loss_func(pred, y).item()\n",
        "        accuracy += (pred.argmax(dim=-1) == y).sum().item()\n",
        "  return tot_cost/num_batches,accuracy/num_examples\n"
      ],
      "execution_count": null,
      "outputs": []
    },
    {
      "cell_type": "code",
      "metadata": {
        "id": "27QyUCS-NJxp",
        "outputId": "af122962-b515-48cf-e555-b76bdef095a5",
        "colab": {
          "base_uri": "https://localhost:8080/"
        }
      },
      "source": [
        "# The training is done for several iterations(epochs).\n",
        "# At the end of each epoch we evaluate the model in validation set.\n",
        "\n",
        "epoch=10\n",
        "\n",
        "\n",
        "for i in range(epoch):\n",
        "  train_epoch_by_epoch(train_dataloader)\n",
        "  val_cost,val_acc=eval_epoch_by_epoch(val_dataloader)\n",
        "  if(i%2==0):\n",
        "    print(f\"Epoch :({i}/{epoch}) Val_Cost :{val_cost:.5f}  Val_accuracy :{val_acc:.3f} \")\n"
      ],
      "execution_count": null,
      "outputs": [
        {
          "output_type": "stream",
          "name": "stdout",
          "text": [
            "Epoch :(0/10) Val_Cost :0.44041  Val_accuracy :0.843 \n",
            "Epoch :(2/10) Val_Cost :0.37188  Val_accuracy :0.867 \n",
            "Epoch :(4/10) Val_Cost :0.34489  Val_accuracy :0.875 \n",
            "Epoch :(6/10) Val_Cost :0.35390  Val_accuracy :0.870 \n",
            "Epoch :(8/10) Val_Cost :0.31607  Val_accuracy :0.880 \n"
          ]
        }
      ]
    },
    {
      "cell_type": "markdown",
      "metadata": {
        "id": "YgCXunDoHblS"
      },
      "source": [
        "##5. Testing the model"
      ]
    },
    {
      "cell_type": "code",
      "metadata": {
        "id": "u43pS_cYEYMl",
        "outputId": "8bff4aa6-42c9-4a1b-be2b-1f1b64f67c35",
        "colab": {
          "base_uri": "https://localhost:8080/"
        }
      },
      "source": [
        "# here we take test data and forward it to model to get test accuracy\n",
        "test_cost,test_acc=eval_epoch_by_epoch(test_dataloader)\n",
        "print(\"Test Accuracy :\",test_acc*100)"
      ],
      "execution_count": null,
      "outputs": [
        {
          "output_type": "stream",
          "name": "stdout",
          "text": [
            "Test Accuracy : 87.72\n"
          ]
        }
      ]
    }
  ]
}